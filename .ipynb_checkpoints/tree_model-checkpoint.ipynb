{
 "cells": [
  {
   "cell_type": "code",
   "execution_count": 1,
   "metadata": {},
   "outputs": [],
   "source": [
    "from stanfordcorenlp import StanfordCoreNLP\n",
    "nlp = StanfordCoreNLP(r'../data/stanford-corenlp-full-2018-02-27', memory='8g',timeout=3000)"
   ]
  },
  {
   "cell_type": "code",
   "execution_count": 2,
   "metadata": {},
   "outputs": [],
   "source": [
    "sentence = \"I Always ask the bartender for the SEASONAL beer !\""
   ]
  },
  {
   "cell_type": "code",
   "execution_count": 11,
   "metadata": {},
   "outputs": [],
   "source": [
    "from nltk import Tree\n",
    "import nltk\n",
    "from functools import reduce\n",
    "\n",
    "def binarize(tree):\n",
    "    \"\"\"\n",
    "    Recursively turn a tree into a binary tree.\n",
    "    \"\"\"\n",
    "    if isinstance(tree, str):\n",
    "        return tree\n",
    "    elif len(tree) == 1:\n",
    "        return binarize(tree[0])\n",
    "    else:\n",
    "        label = tree.label()\n",
    "        return reduce(lambda x, y: Tree(label, (binarize(x), binarize(y))), tree)"
   ]
  },
  {
   "cell_type": "code",
   "execution_count": 4,
   "metadata": {},
   "outputs": [],
   "source": [
    "parse_tree = nlp.parse(sentence)"
   ]
  },
  {
   "cell_type": "code",
   "execution_count": 6,
   "metadata": {},
   "outputs": [
    {
     "data": {
      "image/png": "[encoded data removed]",
      "text/plain": [
       "Tree('ROOT', [Tree('S', [Tree('NP', [Tree('PRP', ['I'])]), Tree('ADVP', [Tree('RB', ['Always'])]), Tree('VP', [Tree('VB', ['ask']), Tree('NP', [Tree('NP', [Tree('DT', ['the']), Tree('NN', ['bartender'])]), Tree('PP', [Tree('IN', ['for']), Tree('NP', [Tree('DT', ['the']), Tree('NNP', ['SEASONAL']), Tree('NN', ['beer'])])])])]), Tree('.', ['!'])])])"
      ]
     },
     "execution_count": 6,
     "metadata": {},
     "output_type": "execute_result"
    }
   ],
   "source": [
    "nltk_tree = Tree.fromstring(parse_tree)\n",
    "nltk_tree"
   ]
  },
  {
   "cell_type": "code",
   "execution_count": 8,
   "metadata": {},
   "outputs": [
    {
     "data": {
      "image/png": "[encoded data removed]",
      "text/plain": [
       "Tree('S', [Tree('S', [Tree('S', ['I', 'Always']), Tree('VP', ['ask', Tree('NP', [Tree('NP', ['the', 'bartender']), Tree('PP', ['for', Tree('NP', [Tree('NP', ['the', 'SEASONAL']), 'beer'])])])])]), '!'])"
      ]
     },
     "execution_count": 8,
     "metadata": {},
     "output_type": "execute_result"
    }
   ],
   "source": [
    "b_tree = binarize(nltk_tree)\n",
    "b_tree"
   ]
  },
  {
   "cell_type": "code",
   "execution_count": 21,
   "metadata": {},
   "outputs": [],
   "source": [
    "words = b_tree.leaves()\n",
    "vocab = {w:i for i, w in enumerate(words)}"
   ]
  },
  {
   "cell_type": "code",
   "execution_count": 23,
   "metadata": {},
   "outputs": [
    {
     "name": "stdout",
     "output_type": "stream",
     "text": [
      "I\n",
      "Always\n",
      "ask\n",
      "the\n",
      "bartender\n",
      "for\n",
      "the\n",
      "SEASONAL\n",
      "beer\n",
      "!\n"
     ]
    }
   ],
   "source": [
    "nodes = []\n",
    "def traverse_tree(tree):\n",
    "    nodes.append(tree.label())\n",
    "    for subtree in tree:\n",
    "        if type(subtree) == nltk.tree.Tree:\n",
    "            traverse_tree(subtree)\n",
    "        else:\n",
    "            print(subtree)\n",
    "\n",
    "traverse_tree(b_tree)"
   ]
  },
  {
   "cell_type": "code",
   "execution_count": 24,
   "metadata": {},
   "outputs": [
    {
     "data": {
      "text/plain": [
       "['S', 'S', 'S', 'VP', 'NP', 'NP', 'PP', 'NP', 'NP']"
      ]
     },
     "execution_count": 24,
     "metadata": {},
     "output_type": "execute_result"
    }
   ],
   "source": [
    "nodes"
   ]
  },
  {
   "cell_type": "code",
   "execution_count": 1,
   "metadata": {},
   "outputs": [],
   "source": [
    "from __future__ import division\n",
    "from data_reader_general import *\n",
    "from configs.config_crf_glove import config\n",
    "from Layer import GloveMaskCat\n",
    "import pickle\n",
    "import numpy as np\n",
    "import codecs\n",
    "import copy\n",
    "import os\n",
    "from torch import optim\n",
    "cat_layer = GloveMaskCat(config)"
   ]
  },
  {
   "cell_type": "code",
   "execution_count": 2,
   "metadata": {},
   "outputs": [],
   "source": [
    "dr = data_reader(config)\n",
    "train_data = dr.load_data(config.data_path+'Restaurants_Train_v2.xml.pkl')\n",
    "test_data = dr.load_data(config.data_path+'Restaurants_Test_Gold.xml.pkl')\n",
    "dg_train = data_generator(config, train_data, False)\n",
    "dg_test =data_generator(config, test_data, False)"
   ]
  },
  {
   "cell_type": "code",
   "execution_count": 3,
   "metadata": {},
   "outputs": [],
   "source": [
    "dg_train = data_generator(config, train_data)\n",
    "dg_test =data_generator(config, test_data, False)"
   ]
  },
  {
   "cell_type": "code",
   "execution_count": 4,
   "metadata": {},
   "outputs": [
    {
     "data": {
      "text/plain": [
       "(array([0, 1, 2]), array([2164,  633,  805]))"
      ]
     },
     "execution_count": 4,
     "metadata": {},
     "output_type": "execute_result"
    }
   ],
   "source": [
    "labels = [item[2] for item in train_data]\n",
    "np.unique(labels, return_counts=True)"
   ]
  },
  {
   "cell_type": "code",
   "execution_count": 29,
   "metadata": {},
   "outputs": [
    {
     "name": "stdout",
     "output_type": "stream",
     "text": [
      "staff\n",
      "['But', 'the', 'staff', 'was', 'so', 'horrible', 'to', 'us', '.']\n"
     ]
    }
   ],
   "source": [
    "index = 0\n",
    "text = train_data[index][0]\n",
    "mask = train_data[index][1]\n",
    "for i, v in enumerate(mask):\n",
    "    if v>0:\n",
    "        print(text[i])\n",
    "print(text)"
   ]
  },
  {
   "cell_type": "code",
   "execution_count": 6,
   "metadata": {},
   "outputs": [],
   "source": [
    "sent_vecs, mask_vecs, label_list, sent_lens, texts, targets = next(dg_train.get_ids_samples())"
   ]
  },
  {
   "cell_type": "code",
   "execution_count": 28,
   "metadata": {},
   "outputs": [
    {
     "data": {
      "text/plain": [
       "tensor([[ 0.0865,  0.1450, -0.4902,  ..., -0.7590, -1.5521,  0.6573],\n",
       "        [-0.2430,  0.2766, -0.0898,  ..., -0.7590, -1.5521,  0.6573],\n",
       "        [-0.1986, -0.0628, -0.3661,  ..., -0.7590, -1.5521,  0.6573],\n",
       "        ...,\n",
       "        [-0.3134,  0.3727, -0.4160,  ..., -0.7590, -1.5521,  0.6573],\n",
       "        [-0.5071,  0.0816, -0.1035,  ..., -0.7590, -1.5521,  0.6573],\n",
       "        [ 0.0120,  0.2075, -0.1258,  ..., -0.7590, -1.5521,  0.6573]],\n",
       "       grad_fn=<SelectBackward>)"
      ]
     },
     "execution_count": 28,
     "metadata": {},
     "output_type": "execute_result"
    }
   ],
   "source": [
    "sent_vecs[0]"
   ]
  },
  {
   "cell_type": "code",
   "execution_count": 24,
   "metadata": {},
   "outputs": [
    {
     "name": "stdout",
     "output_type": "stream",
     "text": [
      "Loaded from data/restaurant/vocab/local_emb.pkl with shape (5120, 300)\n"
     ]
    }
   ],
   "source": [
    "from Layer import SimpleCat\n",
    "cat_layer = SimpleCat(config)\n",
    "cat_layer.load_vector()"
   ]
  },
  {
   "cell_type": "code",
   "execution_count": 25,
   "metadata": {},
   "outputs": [],
   "source": [
    "sent_vecs = cat_layer(sent_vecs, mask_vecs, False)"
   ]
  },
  {
   "cell_type": "code",
   "execution_count": 26,
   "metadata": {},
   "outputs": [
    {
     "data": {
      "text/plain": [
       "torch.Size([32, 56, 330])"
      ]
     },
     "execution_count": 26,
     "metadata": {},
     "output_type": "execute_result"
    }
   ],
   "source": [
    "sent_vecs.size()"
   ]
  },
  {
   "cell_type": "code",
   "execution_count": 31,
   "metadata": {},
   "outputs": [],
   "source": [
    "dh = dataHelper(config)"
   ]
  },
  {
   "cell_type": "code",
   "execution_count": null,
   "metadata": {},
   "outputs": [],
   "source": [
    "word_emb, vocab_words = dh.load_pretrained_word_emb(config.pretrained_embed_path)"
   ]
  }
 ],
 "metadata": {
  "kernelspec": {
   "display_name": "Python 3",
   "language": "python",
   "name": "python3"
  },
  "language_info": {
   "codemirror_mode": {
    "name": "ipython",
    "version": 3
   },
   "file_extension": ".py",
   "mimetype": "text/x-python",
   "name": "python",
   "nbconvert_exporter": "python",
   "pygments_lexer": "ipython3",
   "version": "3.6.6"
  }
 },
 "nbformat": 4,
 "nbformat_minor": 2
}
