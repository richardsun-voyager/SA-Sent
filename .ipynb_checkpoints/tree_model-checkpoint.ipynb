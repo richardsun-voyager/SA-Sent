{
 "cells": [
  {
   "cell_type": "code",
   "execution_count": 4,
   "metadata": {},
   "outputs": [],
   "source": [
    "from stanfordcorenlp import StanfordCoreNLP\n",
    "nlp = StanfordCoreNLP(r'../data/stanford-corenlp-full-2018-02-27', memory='8g',timeout=3000)"
   ]
  },
  {
   "cell_type": "code",
   "execution_count": 5,
   "metadata": {},
   "outputs": [],
   "source": [
    "from nltk import Tree\n",
    "import nltk\n",
    "from functools import reduce\n",
    "\n",
    "def binarize(tree):\n",
    "    \"\"\"\n",
    "    Recursively turn a tree into a binary tree.\n",
    "    \"\"\"\n",
    "    if isinstance(tree, str):\n",
    "        return tree\n",
    "    elif len(tree) == 1:\n",
    "        return binarize(tree[0])\n",
    "    else:\n",
    "        label = tree.label()\n",
    "        return reduce(lambda x, y: Tree(label, (binarize(x), binarize(y))), tree)"
   ]
  },
  {
   "cell_type": "code",
   "execution_count": 6,
   "metadata": {},
   "outputs": [],
   "source": [
    "sentence = \"The signs, the specials menus, food, and even all the waitstaff are ALL TOTALLY Japanese.\""
   ]
  },
  {
   "cell_type": "code",
   "execution_count": 54,
   "metadata": {},
   "outputs": [],
   "source": [
    "parse_tree = nlp.parse(sentence)"
   ]
  },
  {
   "cell_type": "code",
   "execution_count": 55,
   "metadata": {},
   "outputs": [
    {
     "data": {
      "image/png": "[encoded data removed]",
      "text/plain": [
       "Tree('ROOT', [Tree('S', [Tree('NP', [Tree('NP', [Tree('DT', ['The']), Tree('NNS', ['signs'])]), Tree(',', [',']), Tree('NP', [Tree('DT', ['the']), Tree('NNS', ['specials']), Tree('NNS', ['menus'])]), Tree(',', [',']), Tree('NP', [Tree('NN', ['food'])]), Tree(',', [',']), Tree('CC', ['and']), Tree('ADVP', [Tree('RB', ['even']), Tree('DT', ['all'])]), Tree('NP', [Tree('DT', ['the']), Tree('NN', ['waitstaff'])])]), Tree('VP', [Tree('VBP', ['are']), Tree('NP', [Tree('NP', [Tree('NN', ['ALL'])]), Tree('ADJP', [Tree('RB', ['TOTALLY']), Tree('JJ', ['Japanese'])])])]), Tree('.', ['.'])])])"
      ]
     },
     "execution_count": 55,
     "metadata": {},
     "output_type": "execute_result"
    }
   ],
   "source": [
    "nltk_tree = Tree.fromstring(parse_tree)\n",
    "nltk_tree"
   ]
  },
  {
   "cell_type": "code",
   "execution_count": 56,
   "metadata": {},
   "outputs": [
    {
     "data": {
      "text/plain": [
       "[('ROOT', 0, 16),\n",
       " ('det', 2, 1),\n",
       " ('nsubj', 16, 2),\n",
       " ('punct', 2, 3),\n",
       " ('det', 6, 4),\n",
       " ('compound', 6, 5),\n",
       " ('appos', 2, 6),\n",
       " ('punct', 6, 7),\n",
       " ('conj', 6, 8),\n",
       " ('punct', 6, 9),\n",
       " ('cc', 6, 10),\n",
       " ('advmod', 14, 11),\n",
       " ('det:predet', 14, 12),\n",
       " ('det', 14, 13),\n",
       " ('conj', 6, 14),\n",
       " ('cop', 16, 15),\n",
       " ('advmod', 18, 17),\n",
       " ('amod', 16, 18),\n",
       " ('punct', 16, 19)]"
      ]
     },
     "execution_count": 56,
     "metadata": {},
     "output_type": "execute_result"
    }
   ],
   "source": [
    "nlp.dependency_parse(sentence)"
   ]
  },
  {
   "cell_type": "code",
   "execution_count": 279,
   "metadata": {},
   "outputs": [],
   "source": [
    "words = b_tree.leaves()\n",
    "vocab = {w:i for i, w in enumerate(words)}"
   ]
  },
  {
   "cell_type": "code",
   "execution_count": 23,
   "metadata": {},
   "outputs": [
    {
     "name": "stdout",
     "output_type": "stream",
     "text": [
      "I\n",
      "Always\n",
      "ask\n",
      "the\n",
      "bartender\n",
      "for\n",
      "the\n",
      "SEASONAL\n",
      "beer\n",
      "!\n"
     ]
    }
   ],
   "source": [
    "nodes = []\n",
    "def traverse_tree(tree):\n",
    "    nodes.append(tree.label())\n",
    "    for subtree in tree:\n",
    "        if type(subtree) == nltk.tree.Tree:\n",
    "            traverse_tree(subtree)\n",
    "        else:\n",
    "            print(subtree)\n",
    "\n",
    "traverse_tree(b_tree)"
   ]
  },
  {
   "cell_type": "code",
   "execution_count": 24,
   "metadata": {},
   "outputs": [
    {
     "data": {
      "text/plain": [
       "['S', 'S', 'S', 'VP', 'NP', 'NP', 'PP', 'NP', 'NP']"
      ]
     },
     "execution_count": 24,
     "metadata": {},
     "output_type": "execute_result"
    }
   ],
   "source": [
    "nodes"
   ]
  },
  {
   "cell_type": "code",
   "execution_count": 19,
   "metadata": {},
   "outputs": [],
   "source": [
    "trees = []\n",
    "import re\n",
    "with open('data/test_tree.txt', 'w') as f:\n",
    "    for item in test_data:\n",
    "        parse_tree = nlp.parse(item[4])\n",
    "        nltk_tree = Tree.fromstring(parse_tree)\n",
    "        b_tree = binarize(nltk_tree)\n",
    "        line = str(b_tree)\n",
    "        line = re.sub('\\n', ' ', line)\n",
    "        line = ' '.join(line.split())\n",
    "        f.write(line+'||' + str(item[2])+'||'+' '.join(item[5])+'\\n')"
   ]
  },
  {
   "cell_type": "code",
   "execution_count": 61,
   "metadata": {},
   "outputs": [],
   "source": [
    "sent_vecs, mask_vecs, label_list, sent_lens, texts, targets = next(dg_train.get_ids_samples())"
   ]
  },
  {
   "cell_type": "code",
   "execution_count": 3,
   "metadata": {},
   "outputs": [],
   "source": [
    "import en_core_web_sm\n",
    "import spacy\n",
    "spanlp = en_core_web_sm.load()"
   ]
  },
  {
   "cell_type": "code",
   "execution_count": 4,
   "metadata": {},
   "outputs": [],
   "source": [
    "sentence = \"The signs, the specials menus, food, and even all the waitstaff are ALL TOTALLY Japanese.\""
   ]
  },
  {
   "cell_type": "code",
   "execution_count": 5,
   "metadata": {},
   "outputs": [],
   "source": [
    "# document = spanlp(sentence)\n",
    "# for item in document:\n",
    "#     print('|||||||')\n",
    "#     print(item)\n",
    "#     print('****head')\n",
    "#     print(item.head)\n",
    "#     print('###child')\n",
    "#     for child in item.children:\n",
    "#         print(child)"
   ]
  },
  {
   "cell_type": "code",
   "execution_count": 49,
   "metadata": {},
   "outputs": [],
   "source": [
    "import networkx as nx\n",
    "document = spanlp(sentence)\n",
    "edges = []\n",
    "for token in document:\n",
    "    # FYI https://spacy.io/docs/api/token\n",
    "    for child in token.children:\n",
    "        edges.append(('{0}-{1}'.format(token.lower_,token.i),\n",
    "                    '{0}-{1}'.format(child.lower_,child.i)))\n",
    "\n",
    "# document = nlp.dependency_parse(sentence)\n",
    "# words = nlp.word_tokenize(sentence)\n",
    "for token in document:\n",
    "    # FYI https://spacy.io/docs/api/token\n",
    "    for child in token.children:\n",
    "        edges.append(('{0}-{1}'.format(token.lower_,token.i),\n",
    "                    '{0}-{1}'.format(child.lower_,child.i)))\n",
    "graph = nx.Graph(edges)"
   ]
  },
  {
   "cell_type": "code",
   "execution_count": 50,
   "metadata": {},
   "outputs": [
    {
     "data": {
      "text/plain": [
       "[('being-0', 'serioussushilovers-1'),\n",
       " ('sat-4', 'being-0'),\n",
       " ('sat-4', ',-2'),\n",
       " ('sat-4', 'we-3'),\n",
       " ('sat-4', 'at-5'),\n",
       " ('sat-4', 'be-10'),\n",
       " ('sat-4', '.-15'),\n",
       " ('at-5', 'bar-8'),\n",
       " ('bar-8', 'the-6'),\n",
       " ('bar-8', 'sushi-7'),\n",
       " ('be-10', 'to-9'),\n",
       " ('be-10', 'closer-11'),\n",
       " ('closer-11', 'to-12'),\n",
       " ('to-12', 'action-14'),\n",
       " ('action-14', 'the-13'),\n",
       " ('being-0', 'serioussushilovers-1'),\n",
       " ('sat-4', 'being-0'),\n",
       " ('sat-4', ',-2'),\n",
       " ('sat-4', 'we-3'),\n",
       " ('sat-4', 'at-5'),\n",
       " ('sat-4', 'be-10'),\n",
       " ('sat-4', '.-15'),\n",
       " ('at-5', 'bar-8'),\n",
       " ('bar-8', 'the-6'),\n",
       " ('bar-8', 'sushi-7'),\n",
       " ('be-10', 'to-9'),\n",
       " ('be-10', 'closer-11'),\n",
       " ('closer-11', 'to-12'),\n",
       " ('to-12', 'action-14'),\n",
       " ('action-14', 'the-13')]"
      ]
     },
     "execution_count": 50,
     "metadata": {},
     "output_type": "execute_result"
    }
   ],
   "source": [
    "edges"
   ]
  },
  {
   "cell_type": "code",
   "execution_count": 57,
   "metadata": {},
   "outputs": [
    {
     "data": {
      "text/plain": [
       "4"
      ]
     },
     "execution_count": 57,
     "metadata": {},
     "output_type": "execute_result"
    }
   ],
   "source": [
    "nx.shortest_path_length(graph, source='food-1', target='capable-9')"
   ]
  },
  {
   "cell_type": "code",
   "execution_count": 58,
   "metadata": {},
   "outputs": [
    {
     "data": {
      "text/plain": [
       "3"
      ]
     },
     "execution_count": 58,
     "metadata": {},
     "output_type": "execute_result"
    }
   ],
   "source": [
    "nx.shortest_path_length(graph, source='food-1', target='uniformly-3')"
   ]
  },
  {
   "cell_type": "code",
   "execution_count": 59,
   "metadata": {},
   "outputs": [
    {
     "data": {
      "text/plain": [
       "2"
      ]
     },
     "execution_count": 59,
     "metadata": {},
     "output_type": "execute_result"
    }
   ],
   "source": [
    "nx.shortest_path_length(graph, source='food-1', target='exceptional-4')"
   ]
  },
  {
   "cell_type": "code",
   "execution_count": 6,
   "metadata": {},
   "outputs": [],
   "source": [
    "from data_reader_general import data_reader, data_generator\n",
    "from backup.configs.config_crf_glove import config"
   ]
  },
  {
   "cell_type": "code",
   "execution_count": 7,
   "metadata": {},
   "outputs": [
    {
     "name": "stdout",
     "output_type": "stream",
     "text": [
      "Training Samples: 3001\n",
      "Validating Samples: 601\n",
      "Testing Samples: 1120\n"
     ]
    }
   ],
   "source": [
    "dr = data_reader(config)\n",
    "train_data = dr.load_data(config.train_path)\n",
    "valid_data = dr.load_data(config.valid_path)\n",
    "test_data = dr.load_data(config.test_path)\n",
    "print(\"Training Samples: {}\".format(len(train_data)))\n",
    "print(\"Validating Samples: {}\".format(len(valid_data)))\n",
    "print(\"Testing Samples: {}\".format(len(test_data)))\n",
    "\n",
    "dg_train = data_generator(config, train_data)\n",
    "dg_valid = data_generator(config, valid_data, False)\n",
    "dg_test = data_generator(config, test_data, False)"
   ]
  },
  {
   "cell_type": "code",
   "execution_count": 8,
   "metadata": {},
   "outputs": [
    {
     "data": {
      "text/plain": [
       "[['There',\n",
       "  'was',\n",
       "  'a',\n",
       "  'long',\n",
       "  'wait',\n",
       "  'for',\n",
       "  'a',\n",
       "  'table',\n",
       "  'outside',\n",
       "  ',',\n",
       "  'but',\n",
       "  'it',\n",
       "  'was',\n",
       "  'a',\n",
       "  'little',\n",
       "  'too',\n",
       "  'hot',\n",
       "  'in',\n",
       "  'the',\n",
       "  'sun',\n",
       "  'anyway',\n",
       "  'so',\n",
       "  'our',\n",
       "  'insde',\n",
       "  'table',\n",
       "  'was',\n",
       "  'very',\n",
       "  'nice',\n",
       "  '.'],\n",
       " [0,\n",
       "  0,\n",
       "  0,\n",
       "  0,\n",
       "  0,\n",
       "  0,\n",
       "  0,\n",
       "  1,\n",
       "  0,\n",
       "  0,\n",
       "  0,\n",
       "  0,\n",
       "  0,\n",
       "  0,\n",
       "  0,\n",
       "  0,\n",
       "  0,\n",
       "  0,\n",
       "  0,\n",
       "  0,\n",
       "  0,\n",
       "  0,\n",
       "  0,\n",
       "  0,\n",
       "  1,\n",
       "  0,\n",
       "  0,\n",
       "  0,\n",
       "  0],\n",
       " 1,\n",
       " [368,\n",
       "  8,\n",
       "  5,\n",
       "  640,\n",
       "  98,\n",
       "  13,\n",
       "  5,\n",
       "  96,\n",
       "  291,\n",
       "  3,\n",
       "  18,\n",
       "  16,\n",
       "  8,\n",
       "  5,\n",
       "  108,\n",
       "  87,\n",
       "  155,\n",
       "  14,\n",
       "  2,\n",
       "  2966,\n",
       "  2967,\n",
       "  40,\n",
       "  63,\n",
       "  2968,\n",
       "  96,\n",
       "  8,\n",
       "  34,\n",
       "  71,\n",
       "  1],\n",
       " 'There was a long wait for a table outside, but it was a little too hot in the sun anyway so our insde table was very nice.',\n",
       " ['table'],\n",
       " [96]]"
      ]
     },
     "execution_count": 8,
     "metadata": {},
     "output_type": "execute_result"
    }
   ],
   "source": [
    "train_data[0]"
   ]
  },
  {
   "cell_type": "code",
   "execution_count": 9,
   "metadata": {},
   "outputs": [],
   "source": [
    "def get_dependency(text, targets):\n",
    "    doc = spanlp(text)\n",
    "    dependent_list = []\n",
    "    for target in targets:\n",
    "        #print(target)\n",
    "        for token in doc:\n",
    "        # FYI https://spacy.io/docs/api/token\n",
    "            if token.text != target:\n",
    "                continue\n",
    "            \n",
    "            dependent_list.append(token.head)\n",
    "            dependent_list.append(token.text)\n",
    "            for child in token.children:\n",
    "                dependent_list.append(child)\n",
    "    return dependent_list"
   ]
  },
  {
   "cell_type": "code",
   "execution_count": 10,
   "metadata": {},
   "outputs": [
    {
     "name": "stdout",
     "output_type": "stream",
     "text": [
      "table\n"
     ]
    }
   ],
   "source": [
    "dependent_list = get_dependency(train_data[0][4], train_data[0][5])"
   ]
  },
  {
   "cell_type": "code",
   "execution_count": 11,
   "metadata": {},
   "outputs": [
    {
     "data": {
      "text/plain": [
       "[for, 'table', a, outside, was, 'table', our, insde]"
      ]
     },
     "execution_count": 11,
     "metadata": {},
     "output_type": "execute_result"
    }
   ],
   "source": [
    "dependent_list"
   ]
  },
  {
   "cell_type": "code",
   "execution_count": 7,
   "metadata": {},
   "outputs": [],
   "source": [
    "tags_all = []\n",
    "for item in train_data:\n",
    "    doc = spanlp(item[4])\n",
    "    tags = [w.pos_ for w in doc]\n",
    "    tags_all.extend(tags)"
   ]
  },
  {
   "cell_type": "code",
   "execution_count": 8,
   "metadata": {},
   "outputs": [],
   "source": [
    "for item in valid_data:\n",
    "    doc = spanlp(item[4])\n",
    "    tags = [w.pos_ for w in doc]\n",
    "    tags_all.extend(tags)"
   ]
  },
  {
   "cell_type": "code",
   "execution_count": 9,
   "metadata": {},
   "outputs": [],
   "source": [
    "for item in test_data:\n",
    "    doc = spanlp(item[4])\n",
    "    tags = [w.pos_ for w in doc]\n",
    "    tags_all.extend(tags)"
   ]
  },
  {
   "cell_type": "code",
   "execution_count": 10,
   "metadata": {},
   "outputs": [
    {
     "data": {
      "text/plain": [
       "92566"
      ]
     },
     "execution_count": 10,
     "metadata": {},
     "output_type": "execute_result"
    }
   ],
   "source": [
    "len(tags_all)"
   ]
  },
  {
   "cell_type": "code",
   "execution_count": 11,
   "metadata": {},
   "outputs": [],
   "source": [
    "import numpy as np\n",
    "tags_all_np = np.array(tags_all)"
   ]
  },
  {
   "cell_type": "code",
   "execution_count": 12,
   "metadata": {},
   "outputs": [
    {
     "data": {
      "text/plain": [
       "array(['ADJ', 'ADP', 'ADV', 'CCONJ', 'DET', 'INTJ', 'NOUN', 'NUM', 'PART',\n",
       "       'PRON', 'PROPN', 'PUNCT', 'SYM', 'VERB', 'X'], dtype='<U5')"
      ]
     },
     "execution_count": 12,
     "metadata": {},
     "output_type": "execute_result"
    }
   ],
   "source": [
    "np.unique(tags_all)"
   ]
  },
  {
   "cell_type": "code",
   "execution_count": 13,
   "metadata": {},
   "outputs": [
    {
     "data": {
      "text/plain": [
       "['ADV',\n",
       " 'VERB',\n",
       " 'DET',\n",
       " 'ADJ',\n",
       " 'NOUN',\n",
       " 'ADP',\n",
       " 'DET',\n",
       " 'NOUN',\n",
       " 'ADV',\n",
       " 'PUNCT',\n",
       " 'CCONJ',\n",
       " 'PRON',\n",
       " 'VERB',\n",
       " 'DET',\n",
       " 'ADJ',\n",
       " 'ADV',\n",
       " 'ADJ',\n",
       " 'ADP',\n",
       " 'DET',\n",
       " 'NOUN']"
      ]
     },
     "execution_count": 13,
     "metadata": {},
     "output_type": "execute_result"
    }
   ],
   "source": [
    "tags_all[:20]"
   ]
  },
  {
   "cell_type": "code",
   "execution_count": 14,
   "metadata": {},
   "outputs": [],
   "source": [
    "doc = spanlp(item[4])"
   ]
  },
  {
   "cell_type": "code",
   "execution_count": 16,
   "metadata": {},
   "outputs": [
    {
     "name": "stdout",
     "output_type": "stream",
     "text": [
      "0 Creamy\n",
      "1 appetizers\n",
      "2 taramasalata\n",
      "3 ,\n",
      "4 eggplant\n",
      "5 salad\n",
      "6 ,\n",
      "7 and\n",
      "8 Greek\n",
      "9 yogurt\n",
      "10 with\n",
      "11 cuccumber\n",
      "12 ,\n",
      "13 dill\n",
      "14 ,\n",
      "15 and\n",
      "16 garlic\n",
      "17 taste\n",
      "18 excellent\n",
      "19 when\n",
      "20 on\n",
      "21 warm\n",
      "22 pitas\n",
      "23 .\n"
     ]
    }
   ],
   "source": [
    "for i, w in enumerate(doc):\n",
    "    print(i, w)"
   ]
  },
  {
   "cell_type": "code",
   "execution_count": null,
   "metadata": {},
   "outputs": [],
   "source": []
  }
 ],
 "metadata": {
  "kernelspec": {
   "display_name": "Python 3",
   "language": "python",
   "name": "python3"
  }
 },
 "nbformat": 4,
 "nbformat_minor": 2
}
