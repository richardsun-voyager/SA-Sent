{
 "cells": [
  {
   "cell_type": "code",
   "execution_count": 20,
   "metadata": {
    "collapsed": true
   },
   "outputs": [],
   "source": [
    "from collections import namedtuple, defaultdict\n",
    "import codecs\n",
    "from config import config\n",
    "from bs4 import BeautifulSoup\n",
    "import pdb\n",
    "import torch\n",
    "from nltk.tokenize import word_tokenize\n",
    "#import tokenizer\n",
    "import numpy as np\n",
    "import re\n",
    "import pickle\n",
    "import random\n",
    "##Added by Richard Sun\n",
    "import en_core_web_sm\n",
    "nlp = en_core_web_sm.load()\n",
    "from data_reader import *"
   ]
  },
  {
   "cell_type": "code",
   "execution_count": 39,
   "metadata": {
    "collapsed": true
   },
   "outputs": [],
   "source": [
    "TRAIN_DATA_PATH = \"data/2014/Restaurants_Train_v2.xml\"\n",
    "TEST_DATA_PATH = \"data/2014/Restaurants_Test_Gold.xml\"\n",
    "TRAIN_DATA_PATH = \"data/Indonesian/indo_tweets.csv\"\n",
    "\n",
    "# TRAIN_DATA_PATH = \"./data/2014/Laptop_Train_v2.xml\"\n",
    "# TEST_DATA_PATH = \"./data/2014/Laptops_Test_Gold.xml\"\n",
    "\n",
    "GLOVE_FILE = \"../data/word_embeddings/indo_vectors.txt\"\n",
    "OUT_FILE = config.embed_path\n",
    "DATA_FILE = config.data_path\n",
    "DIC_FILE = config.dic_path"
   ]
  },
  {
   "cell_type": "code",
   "execution_count": 40,
   "metadata": {
    "collapsed": true
   },
   "outputs": [],
   "source": [
    "#!pip install xlrd\n",
    "import pandas as pd\n",
    "#help(pd.read_excel)\n",
    "data = pd.read_csv(TRAIN_DATA_PATH)"
   ]
  },
  {
   "cell_type": "code",
   "execution_count": 56,
   "metadata": {},
   "outputs": [
    {
     "data": {
      "text/plain": [
       "count        7132\n",
       "unique          3\n",
       "top       Neutral\n",
       "freq         3091\n",
       "Name: Sentiment, dtype: object"
      ]
     },
     "execution_count": 56,
     "metadata": {},
     "output_type": "execute_result"
    }
   ],
   "source": [
    "data.Sentiment.describe()"
   ]
  },
  {
   "cell_type": "code",
   "execution_count": 59,
   "metadata": {},
   "outputs": [
    {
     "data": {
      "text/html": [
       "<div>\n",
       "<style scoped>\n",
       "    .dataframe tbody tr th:only-of-type {\n",
       "        vertical-align: middle;\n",
       "    }\n",
       "\n",
       "    .dataframe tbody tr th {\n",
       "        vertical-align: top;\n",
       "    }\n",
       "\n",
       "    .dataframe thead th {\n",
       "        text-align: right;\n",
       "    }\n",
       "</style>\n",
       "<table border=\"1\" class=\"dataframe\">\n",
       "  <thead>\n",
       "    <tr style=\"text-align: right;\">\n",
       "      <th></th>\n",
       "      <th>Unnamed: 0</th>\n",
       "      <th>Username</th>\n",
       "      <th>Keyword</th>\n",
       "      <th>Tweet</th>\n",
       "      <th>Sentiment</th>\n",
       "      <th>Overal Sentiment</th>\n",
       "      <th>Unnamed: 5</th>\n",
       "    </tr>\n",
       "  </thead>\n",
       "  <tbody>\n",
       "    <tr>\n",
       "      <th>6130</th>\n",
       "      <td>6130</td>\n",
       "      <td>ZUL_Hasan</td>\n",
       "      <td>ISIS</td>\n",
       "      <td>TIPS jadi saksi nikah : Jangan baper .. Sesama...</td>\n",
       "      <td>NaN</td>\n",
       "      <td>NaN</td>\n",
       "      <td>remarks: the ISIS in this context does not ref...</td>\n",
       "    </tr>\n",
       "    <tr>\n",
       "      <th>6534</th>\n",
       "      <td>6534</td>\n",
       "      <td>tifsembiring</td>\n",
       "      <td>ISIS</td>\n",
       "      <td>ISIS ...? ada yg bilang \"Istri Sholihah Idaman...</td>\n",
       "      <td>NaN</td>\n",
       "      <td>NaN</td>\n",
       "      <td>remarks: ISIS here does not refer to the Islam...</td>\n",
       "    </tr>\n",
       "    <tr>\n",
       "      <th>6538</th>\n",
       "      <td>6538</td>\n",
       "      <td>tifsembiring</td>\n",
       "      <td>HTI</td>\n",
       "      <td>@rayestu kmbalikan pd hti nurani mas, kita kom...</td>\n",
       "      <td>NaN</td>\n",
       "      <td>NaN</td>\n",
       "      <td>remarks: hti nurani = hati nurani, does not re...</td>\n",
       "    </tr>\n",
       "  </tbody>\n",
       "</table>\n",
       "</div>"
      ],
      "text/plain": [
       "      Unnamed: 0      Username Keyword  \\\n",
       "6130        6130     ZUL_Hasan    ISIS   \n",
       "6534        6534  tifsembiring    ISIS   \n",
       "6538        6538  tifsembiring     HTI   \n",
       "\n",
       "                                                  Tweet Sentiment  \\\n",
       "6130  TIPS jadi saksi nikah : Jangan baper .. Sesama...       NaN   \n",
       "6534  ISIS ...? ada yg bilang \"Istri Sholihah Idaman...       NaN   \n",
       "6538  @rayestu kmbalikan pd hti nurani mas, kita kom...       NaN   \n",
       "\n",
       "     Overal Sentiment                                         Unnamed: 5  \n",
       "6130              NaN  remarks: the ISIS in this context does not ref...  \n",
       "6534              NaN  remarks: ISIS here does not refer to the Islam...  \n",
       "6538              NaN  remarks: hti nurani = hati nurani, does not re...  "
      ]
     },
     "execution_count": 59,
     "metadata": {},
     "output_type": "execute_result"
    }
   ],
   "source": [
    "data[pd.isnull(data[['Sentiment']]).any(axis=1)]"
   ]
  },
  {
   "cell_type": "code",
   "execution_count": 32,
   "metadata": {
    "collapsed": true
   },
   "outputs": [],
   "source": [
    "data.to_csv('data/Indonesian/indo_tweets.csv')"
   ]
  },
  {
   "cell_type": "code",
   "execution_count": 4,
   "metadata": {
    "collapsed": true
   },
   "outputs": [],
   "source": [
    "dr = data_reader(config)\n",
    "dr.load_data(config.train_path)\n",
    "dr_valid = data_reader(config, False)\n",
    "dr_valid.load_data(config.valid_path)\n",
    "dr_test = data_reader(config, False)\n",
    "dr_test.load_data(config.test_path)"
   ]
  },
  {
   "cell_type": "code",
   "execution_count": 9,
   "metadata": {
    "collapsed": true
   },
   "outputs": [],
   "source": [
    "samples = dr.generate_sample(dr.data_batch)"
   ]
  },
  {
   "cell_type": "code",
   "execution_count": 15,
   "metadata": {
    "collapsed": true
   },
   "outputs": [],
   "source": [
    "words = ['ss', 'ff','df','gf']\n",
    "word_freq_pair = Counter(words)"
   ]
  },
  {
   "cell_type": "code",
   "execution_count": 6,
   "metadata": {},
   "outputs": [
    {
     "name": "stdout",
     "output_type": "stream",
     "text": [
      "defaultdict(<class 'int'>, {2: 805, 0: 2164, 1: 633})\n"
     ]
    }
   ],
   "source": [
    "data_batch = dh.to_batches(data)"
   ]
  },
  {
   "cell_type": "code",
   "execution_count": 8,
   "metadata": {},
   "outputs": [
    {
     "name": "stdout",
     "output_type": "stream",
     "text": [
      "Dataset number: 606\n",
      "Target error meal\n",
      "Local Embeddings Saved!\n"
     ]
    }
   ],
   "source": [
    "data2 = dh.read(TEST_DATA_PATH, False)"
   ]
  },
  {
   "cell_type": "code",
   "execution_count": 60,
   "metadata": {
    "collapsed": true
   },
   "outputs": [],
   "source": [
    "sample = reader.generate_sample(train_batch)\n",
    "sent_vecs, mask_vecs, label_list, sent_lens = elmo_transform(sample)"
   ]
  },
  {
   "cell_type": "code",
   "execution_count": 62,
   "metadata": {
    "collapsed": true
   },
   "outputs": [],
   "source": [
    "sent_vecs, mask_vecs, label_list, sent_lens = elmo_transform([test_batch[0]])"
   ]
  },
  {
   "cell_type": "code",
   "execution_count": 97,
   "metadata": {
    "collapsed": true
   },
   "outputs": [],
   "source": [
    "# write to pkl\n",
    "with open(DATA_FILE, \"wb\") as f:\n",
    "    pickle.dump([train_batch, test_batch],f)"
   ]
  },
  {
   "cell_type": "code",
   "execution_count": 98,
   "metadata": {
    "collapsed": true
   },
   "outputs": [],
   "source": [
    "with codecs.open(DIC_FILE, 'wb') as f:\n",
    "    pickle.dump(reader.id2word, f)"
   ]
  },
  {
   "cell_type": "code",
   "execution_count": 99,
   "metadata": {},
   "outputs": [
    {
     "name": "stdout",
     "output_type": "stream",
     "text": [
      "1411 unk out of 5138 vocab\n"
     ]
    }
   ],
   "source": [
    "reader.gen_vectors_glove()"
   ]
  },
  {
   "cell_type": "code",
   "execution_count": 54,
   "metadata": {},
   "outputs": [
    {
     "name": "stderr",
     "output_type": "stream",
     "text": [
      "/Users/richardsun/anaconda3/envs/allennlp/lib/python3.6/site-packages/torch/nn/modules/rnn.py:38: UserWarning: dropout option adds dropout after all but last recurrent layer, so non-zero dropout expects num_layers greater than 1, but got dropout=0.1 and num_layers=1\n",
      "  \"num_layers={}\".format(dropout, num_layers))\n"
     ]
    }
   ],
   "source": [
    "from model_att import *\n",
    "model = attTSA(config)"
   ]
  },
  {
   "cell_type": "code",
   "execution_count": null,
   "metadata": {
    "collapsed": true
   },
   "outputs": [],
   "source": []
  },
  {
   "cell_type": "code",
   "execution_count": 107,
   "metadata": {},
   "outputs": [
    {
     "name": "stdout",
     "output_type": "stream",
     "text": [
      "Text:To Head:be Children: []\n",
      "Text:be Head:was Children: [To, fair]\n",
      "Text:completely Head:fair Children: []\n",
      "Text:fair Head:be Children: [completely]\n",
      "Text:, Head:was Children: []\n",
      "Text:the Head:factor Children: []\n",
      "Text:only Head:factor Children: []\n",
      "Text:redeeming Head:factor Children: []\n",
      "Text:factor Head:was Children: [the, only, redeeming]\n",
      "Text:was Head:was Children: [be, ,, factor, food, ,, but, make, .]\n",
      "Text:the Head:food Children: []\n",
      "Text:food Head:was Children: [the, ,, was]\n",
      "Text:, Head:food Children: []\n",
      "Text:which Head:was Children: []\n",
      "Text:was Head:food Children: [which, above]\n",
      "Text:above Head:was Children: [average]\n",
      "Text:average Head:above Children: []\n",
      "Text:, Head:was Children: []\n",
      "Text:but Head:was Children: []\n",
      "Text:could Head:make Children: []\n",
      "Text:n't Head:make Children: []\n",
      "Text:make Head:was Children: [could, n't, up, for]\n",
      "Text:up Head:make Children: []\n",
      "Text:for Head:make Children: [deficiencies]\n",
      "Text:all Head:deficiencies Children: []\n",
      "Text:the Head:deficiencies Children: []\n",
      "Text:other Head:deficiencies Children: []\n",
      "Text:deficiencies Head:for Children: [all, the, other, of]\n",
      "Text:of Head:deficiencies Children: [Teodora]\n",
      "Text:Teodora Head:of Children: []\n",
      "Text:. Head:was Children: []\n"
     ]
    }
   ],
   "source": [
    "doc = nlp(u\"To be completely fair, the only redeeming factor was the food, which was above average, but couldn't make up for all the other deficiencies of Teodora.\")\n",
    "target = 'food'\n",
    "for token in doc:\n",
    "#     if 'food' in token.head.text:\n",
    "#         print(token)\n",
    "#     children = [t.text for t in token.children]    \n",
    "#     if 'food' in children:\n",
    "#         print(token)\n",
    "    print('Text:'+ token.text, 'Head:'+token.head.text, 'Children:',\n",
    "           [child for child in token.children])\n",
    "#     if token.text == 'food':\n",
    "#         a = token\n",
    "#     if token.text == 'deficiencies':\n",
    "#         b= token\n",
    "    "
   ]
  },
  {
   "cell_type": "code",
   "execution_count": 103,
   "metadata": {},
   "outputs": [
    {
     "name": "stdout",
     "output_type": "stream",
     "text": [
      "To be completely fair, the only redeeming factor was the food, which was above average, but couldn't make up for all the other deficiencies of Teodora.\n",
      "*******\n"
     ]
    }
   ],
   "source": [
    "for item in doc.sents:\n",
    "    print(item)\n",
    "    print('*******')"
   ]
  },
  {
   "cell_type": "code",
   "execution_count": 46,
   "metadata": {},
   "outputs": [
    {
     "name": "stdout",
     "output_type": "stream",
     "text": [
      "Text:the Head:screen Children: []\n",
      "Text:screen Head:is Children: [the]\n",
      "Text:is Head:is Children: [screen, good, but, sucks]\n",
      "Text:good Head:is Children: []\n",
      "Text:but Head:is Children: []\n",
      "Text:the Head:battery Children: []\n",
      "Text:battery Head:sucks Children: [the]\n",
      "Text:sucks Head:is Children: [battery]\n"
     ]
    }
   ],
   "source": [
    "doc = nlp(u'the screen is good but the battery sucks')\n",
    "for token in doc:\n",
    "#     if 'food' in token.head.text:\n",
    "#         print(token)\n",
    "#     children = [t.text for t in token.children]    \n",
    "#     if 'food' in children:\n",
    "#         print(token)\n",
    "    print('Text:'+ token.text, 'Head:'+token.head.text, 'Children:',\n",
    "           [child for child in token.children])"
   ]
  },
  {
   "cell_type": "code",
   "execution_count": null,
   "metadata": {
    "collapsed": true
   },
   "outputs": [],
   "source": []
  },
  {
   "cell_type": "code",
   "execution_count": 44,
   "metadata": {},
   "outputs": [
    {
     "data": {
      "text/html": [
       "<svg xmlns=\"http://www.w3.org/2000/svg\" xmlns:xlink=\"http://www.w3.org/1999/xlink\" id=\"0\" class=\"displacy\" width=\"1450\" height=\"399.5\" style=\"max-width: none; height: 399.5px; color: #000000; background: #ffffff; font-family: Arial\">\n",
       "<text class=\"displacy-token\" fill=\"currentColor\" text-anchor=\"middle\" y=\"309.5\">\n",
       "    <tspan class=\"displacy-word\" fill=\"currentColor\" x=\"50\">the</tspan>\n",
       "    <tspan class=\"displacy-tag\" dy=\"2em\" fill=\"currentColor\" x=\"50\">DET</tspan>\n",
       "</text>\n",
       "\n",
       "<text class=\"displacy-token\" fill=\"currentColor\" text-anchor=\"middle\" y=\"309.5\">\n",
       "    <tspan class=\"displacy-word\" fill=\"currentColor\" x=\"225\">screen</tspan>\n",
       "    <tspan class=\"displacy-tag\" dy=\"2em\" fill=\"currentColor\" x=\"225\">NOUN</tspan>\n",
       "</text>\n",
       "\n",
       "<text class=\"displacy-token\" fill=\"currentColor\" text-anchor=\"middle\" y=\"309.5\">\n",
       "    <tspan class=\"displacy-word\" fill=\"currentColor\" x=\"400\">is</tspan>\n",
       "    <tspan class=\"displacy-tag\" dy=\"2em\" fill=\"currentColor\" x=\"400\">VERB</tspan>\n",
       "</text>\n",
       "\n",
       "<text class=\"displacy-token\" fill=\"currentColor\" text-anchor=\"middle\" y=\"309.5\">\n",
       "    <tspan class=\"displacy-word\" fill=\"currentColor\" x=\"575\">good</tspan>\n",
       "    <tspan class=\"displacy-tag\" dy=\"2em\" fill=\"currentColor\" x=\"575\">ADJ</tspan>\n",
       "</text>\n",
       "\n",
       "<text class=\"displacy-token\" fill=\"currentColor\" text-anchor=\"middle\" y=\"309.5\">\n",
       "    <tspan class=\"displacy-word\" fill=\"currentColor\" x=\"750\">but</tspan>\n",
       "    <tspan class=\"displacy-tag\" dy=\"2em\" fill=\"currentColor\" x=\"750\">CCONJ</tspan>\n",
       "</text>\n",
       "\n",
       "<text class=\"displacy-token\" fill=\"currentColor\" text-anchor=\"middle\" y=\"309.5\">\n",
       "    <tspan class=\"displacy-word\" fill=\"currentColor\" x=\"925\">the</tspan>\n",
       "    <tspan class=\"displacy-tag\" dy=\"2em\" fill=\"currentColor\" x=\"925\">DET</tspan>\n",
       "</text>\n",
       "\n",
       "<text class=\"displacy-token\" fill=\"currentColor\" text-anchor=\"middle\" y=\"309.5\">\n",
       "    <tspan class=\"displacy-word\" fill=\"currentColor\" x=\"1100\">battery</tspan>\n",
       "    <tspan class=\"displacy-tag\" dy=\"2em\" fill=\"currentColor\" x=\"1100\">NOUN</tspan>\n",
       "</text>\n",
       "\n",
       "<text class=\"displacy-token\" fill=\"currentColor\" text-anchor=\"middle\" y=\"309.5\">\n",
       "    <tspan class=\"displacy-word\" fill=\"currentColor\" x=\"1275\">sucks</tspan>\n",
       "    <tspan class=\"displacy-tag\" dy=\"2em\" fill=\"currentColor\" x=\"1275\">VERB</tspan>\n",
       "</text>\n",
       "\n",
       "<g class=\"displacy-arrow\">\n",
       "    <path class=\"displacy-arc\" id=\"arrow-0-0\" stroke-width=\"2px\" d=\"M70,264.5 C70,177.0 215.0,177.0 215.0,264.5\" fill=\"none\" stroke=\"currentColor\"/>\n",
       "    <text dy=\"1.25em\" style=\"font-size: 0.8em; letter-spacing: 1px\">\n",
       "        <textPath xlink:href=\"#arrow-0-0\" class=\"displacy-label\" startOffset=\"50%\" fill=\"currentColor\" text-anchor=\"middle\">det</textPath>\n",
       "    </text>\n",
       "    <path class=\"displacy-arrowhead\" d=\"M70,266.5 L62,254.5 78,254.5\" fill=\"currentColor\"/>\n",
       "</g>\n",
       "\n",
       "<g class=\"displacy-arrow\">\n",
       "    <path class=\"displacy-arc\" id=\"arrow-0-1\" stroke-width=\"2px\" d=\"M245,264.5 C245,177.0 390.0,177.0 390.0,264.5\" fill=\"none\" stroke=\"currentColor\"/>\n",
       "    <text dy=\"1.25em\" style=\"font-size: 0.8em; letter-spacing: 1px\">\n",
       "        <textPath xlink:href=\"#arrow-0-1\" class=\"displacy-label\" startOffset=\"50%\" fill=\"currentColor\" text-anchor=\"middle\">nsubj</textPath>\n",
       "    </text>\n",
       "    <path class=\"displacy-arrowhead\" d=\"M245,266.5 L237,254.5 253,254.5\" fill=\"currentColor\"/>\n",
       "</g>\n",
       "\n",
       "<g class=\"displacy-arrow\">\n",
       "    <path class=\"displacy-arc\" id=\"arrow-0-2\" stroke-width=\"2px\" d=\"M420,264.5 C420,177.0 565.0,177.0 565.0,264.5\" fill=\"none\" stroke=\"currentColor\"/>\n",
       "    <text dy=\"1.25em\" style=\"font-size: 0.8em; letter-spacing: 1px\">\n",
       "        <textPath xlink:href=\"#arrow-0-2\" class=\"displacy-label\" startOffset=\"50%\" fill=\"currentColor\" text-anchor=\"middle\">acomp</textPath>\n",
       "    </text>\n",
       "    <path class=\"displacy-arrowhead\" d=\"M565.0,266.5 L573.0,254.5 557.0,254.5\" fill=\"currentColor\"/>\n",
       "</g>\n",
       "\n",
       "<g class=\"displacy-arrow\">\n",
       "    <path class=\"displacy-arc\" id=\"arrow-0-3\" stroke-width=\"2px\" d=\"M420,264.5 C420,89.5 745.0,89.5 745.0,264.5\" fill=\"none\" stroke=\"currentColor\"/>\n",
       "    <text dy=\"1.25em\" style=\"font-size: 0.8em; letter-spacing: 1px\">\n",
       "        <textPath xlink:href=\"#arrow-0-3\" class=\"displacy-label\" startOffset=\"50%\" fill=\"currentColor\" text-anchor=\"middle\">cc</textPath>\n",
       "    </text>\n",
       "    <path class=\"displacy-arrowhead\" d=\"M745.0,266.5 L753.0,254.5 737.0,254.5\" fill=\"currentColor\"/>\n",
       "</g>\n",
       "\n",
       "<g class=\"displacy-arrow\">\n",
       "    <path class=\"displacy-arc\" id=\"arrow-0-4\" stroke-width=\"2px\" d=\"M945,264.5 C945,177.0 1090.0,177.0 1090.0,264.5\" fill=\"none\" stroke=\"currentColor\"/>\n",
       "    <text dy=\"1.25em\" style=\"font-size: 0.8em; letter-spacing: 1px\">\n",
       "        <textPath xlink:href=\"#arrow-0-4\" class=\"displacy-label\" startOffset=\"50%\" fill=\"currentColor\" text-anchor=\"middle\">det</textPath>\n",
       "    </text>\n",
       "    <path class=\"displacy-arrowhead\" d=\"M945,266.5 L937,254.5 953,254.5\" fill=\"currentColor\"/>\n",
       "</g>\n",
       "\n",
       "<g class=\"displacy-arrow\">\n",
       "    <path class=\"displacy-arc\" id=\"arrow-0-5\" stroke-width=\"2px\" d=\"M1120,264.5 C1120,177.0 1265.0,177.0 1265.0,264.5\" fill=\"none\" stroke=\"currentColor\"/>\n",
       "    <text dy=\"1.25em\" style=\"font-size: 0.8em; letter-spacing: 1px\">\n",
       "        <textPath xlink:href=\"#arrow-0-5\" class=\"displacy-label\" startOffset=\"50%\" fill=\"currentColor\" text-anchor=\"middle\">nsubj</textPath>\n",
       "    </text>\n",
       "    <path class=\"displacy-arrowhead\" d=\"M1120,266.5 L1112,254.5 1128,254.5\" fill=\"currentColor\"/>\n",
       "</g>\n",
       "\n",
       "<g class=\"displacy-arrow\">\n",
       "    <path class=\"displacy-arc\" id=\"arrow-0-6\" stroke-width=\"2px\" d=\"M420,264.5 C420,2.0 1275.0,2.0 1275.0,264.5\" fill=\"none\" stroke=\"currentColor\"/>\n",
       "    <text dy=\"1.25em\" style=\"font-size: 0.8em; letter-spacing: 1px\">\n",
       "        <textPath xlink:href=\"#arrow-0-6\" class=\"displacy-label\" startOffset=\"50%\" fill=\"currentColor\" text-anchor=\"middle\">conj</textPath>\n",
       "    </text>\n",
       "    <path class=\"displacy-arrowhead\" d=\"M1275.0,266.5 L1283.0,254.5 1267.0,254.5\" fill=\"currentColor\"/>\n",
       "</g>\n",
       "</svg>"
      ],
      "text/plain": [
       "<IPython.core.display.HTML object>"
      ]
     },
     "metadata": {},
     "output_type": "display_data"
    }
   ],
   "source": [
    "from spacy import displacy\n",
    "displacy.render(doc, style='dep', jupyter=True)\n",
    "# trees = doc.print_tree()\n",
    "# trees[0]"
   ]
  },
  {
   "cell_type": "code",
   "execution_count": 1,
   "metadata": {
    "collapsed": true
   },
   "outputs": [],
   "source": [
    "from Layer import SimpleCat\n",
    "from data_reader_general import dataHelper, data_generator\n",
    "#from model_glove import *\n",
    "from model_crf import *\n",
    "from config import config\n",
    "cat_layer = SimpleCat(config)"
   ]
  },
  {
   "cell_type": "code",
   "execution_count": 2,
   "metadata": {
    "collapsed": true
   },
   "outputs": [],
   "source": [
    "#cat_layer.load_vector()"
   ]
  },
  {
   "cell_type": "code",
   "execution_count": 189,
   "metadata": {
    "collapsed": true
   },
   "outputs": [],
   "source": [
    "sent = 'To heal the hearts of believers and to enrage kuffar, \\\n",
    "munafikeen and murtadeen, we present the last video memoir of Shaheed Eisa Fazili. May Allah accept him into highest Jannah'\n",
    "targets = ['Eisa Fazili', 'kuffar', 'munafikeen', 'murtadeen', 'Allah']"
   ]
  },
  {
   "cell_type": "code",
   "execution_count": 164,
   "metadata": {
    "collapsed": true
   },
   "outputs": [],
   "source": [
    "sent = \"But the staff was so good to us\"\n",
    "targets = ['staff']"
   ]
  },
  {
   "cell_type": "code",
   "execution_count": 190,
   "metadata": {
    "collapsed": true
   },
   "outputs": [],
   "source": [
    "sentence_list = []\n",
    "opinion_list = []\n",
    "SentInst = namedtuple(\"SentenceInstance\", \"id text text_ids text_inds opinions\")\n",
    "OpinionInst = namedtuple(\"OpinionInstance\", \"target_text polarity class_ind target_mask target_ids\")\n",
    "for target in targets:\n",
    "    opinion_inst = OpinionInst(target, 'negative', None, None, None)\n",
    "    opinion_list.append(opinion_inst)\n",
    "sent_Inst = SentInst(1, sent, None, None, opinion_list)\n",
    "sentence_list.append(sent_Inst)"
   ]
  },
  {
   "cell_type": "code",
   "execution_count": 191,
   "metadata": {
    "collapsed": true
   },
   "outputs": [],
   "source": [
    "dh = dataHelper(config)\n",
    "data, words = dh.process_raw_data(sentence_list)"
   ]
  },
  {
   "cell_type": "code",
   "execution_count": 192,
   "metadata": {},
   "outputs": [
    {
     "name": "stdout",
     "output_type": "stream",
     "text": [
      "defaultdict(<class 'int'>, {2: 5})\n"
     ]
    }
   ],
   "source": [
    "data_batch = dh.to_batches(data)"
   ]
  },
  {
   "cell_type": "code",
   "execution_count": 193,
   "metadata": {
    "collapsed": true
   },
   "outputs": [],
   "source": [
    "dg = data_generator(config, data_batch)"
   ]
  },
  {
   "cell_type": "code",
   "execution_count": 194,
   "metadata": {
    "collapsed": true
   },
   "outputs": [],
   "source": [
    "sent_vecs, mask_vecs, label_list, sent_lens = dg.elmo_transform(data_batch)"
   ]
  },
  {
   "cell_type": "code",
   "execution_count": 195,
   "metadata": {
    "collapsed": true
   },
   "outputs": [],
   "source": [
    "#model = AspectSent(config)"
   ]
  },
  {
   "cell_type": "code",
   "execution_count": 197,
   "metadata": {
    "collapsed": true
   },
   "outputs": [],
   "source": [
    "pred_label, best_seq = model.predict(sent_vecs, mask_vecs, sent_lens) "
   ]
  },
  {
   "cell_type": "code",
   "execution_count": 198,
   "metadata": {},
   "outputs": [
    {
     "data": {
      "text/plain": [
       "tensor([ 0,  0,  0,  0,  0])"
      ]
     },
     "execution_count": 198,
     "metadata": {},
     "output_type": "execute_result"
    }
   ],
   "source": [
    "pred_label"
   ]
  },
  {
   "cell_type": "code",
   "execution_count": 199,
   "metadata": {
    "collapsed": true
   },
   "outputs": [],
   "source": [
    "scores, s_probs, best_seqs = model.compute_predict_scores(sent_vecs, mask_vecs, sent_lens)"
   ]
  },
  {
   "cell_type": "code",
   "execution_count": 200,
   "metadata": {},
   "outputs": [
    {
     "data": {
      "text/plain": [
       "tensor([[ 2.6032, -4.7932,  0.9438],\n",
       "        [ 2.6839, -5.2023,  1.0347],\n",
       "        [ 2.7342, -5.2895,  1.0273],\n",
       "        [ 2.7248, -5.2792,  1.0532],\n",
       "        [ 2.7875, -5.3021,  1.0744]])"
      ]
     },
     "execution_count": 200,
     "metadata": {},
     "output_type": "execute_result"
    }
   ],
   "source": [
    "scores"
   ]
  },
  {
   "cell_type": "code",
   "execution_count": 201,
   "metadata": {},
   "outputs": [
    {
     "data": {
      "text/plain": [
       "tensor([[ 0.8397,  0.0005,  0.1598],\n",
       "        [ 0.8385,  0.0003,  0.1612],\n",
       "        [ 0.8462,  0.0003,  0.1535],\n",
       "        [ 0.8415,  0.0003,  0.1582],\n",
       "        [ 0.8470,  0.0003,  0.1527]])"
      ]
     },
     "execution_count": 201,
     "metadata": {},
     "output_type": "execute_result"
    }
   ],
   "source": [
    "import torch.nn.functional as F\n",
    "F.softmax(scores, dim=1)"
   ]
  },
  {
   "cell_type": "code",
   "execution_count": 203,
   "metadata": {
    "collapsed": true
   },
   "outputs": [],
   "source": [
    "from data_reader import data_reader\n",
    "dr = data_reader(config)\n",
    "dr.load_data(config.train_path)"
   ]
  },
  {
   "cell_type": "code",
   "execution_count": 205,
   "metadata": {},
   "outputs": [
    {
     "data": {
      "text/plain": [
       "3001"
      ]
     },
     "execution_count": 205,
     "metadata": {},
     "output_type": "execute_result"
    }
   ],
   "source": [
    "dr.data_len"
   ]
  },
  {
   "cell_type": "code",
   "execution_count": 210,
   "metadata": {
    "collapsed": true
   },
   "outputs": [],
   "source": [
    "token_list, mask_list, label_list, _ = zip(*dr.data_batch)"
   ]
  },
  {
   "cell_type": "code",
   "execution_count": 212,
   "metadata": {
    "collapsed": true
   },
   "outputs": [],
   "source": [
    "unique, counts = np.unique(label_list, return_counts=True)"
   ]
  },
  {
   "cell_type": "code",
   "execution_count": 10,
   "metadata": {},
   "outputs": [],
   "source": [
    "from __future__ import division\n",
    "from data_reader_general import *\n",
    "from parse_path import dependency_path\n",
    "#from configs.config_indo import config\n",
    "import pickle\n",
    "from Layer import GloveMaskCat\n",
    "import numpy as np\n",
    "import codecs\n",
    "import copy\n",
    "import os, sys"
   ]
  },
  {
   "cell_type": "code",
   "execution_count": 2,
   "metadata": {},
   "outputs": [
    {
     "name": "stdout",
     "output_type": "stream",
     "text": [
      "Reading Dataset....\n",
      "Dataset number: 4993\n",
      "Target not in the sentence ['Setnov']\n",
      "Sentence: ['Akbar' 'Dorong' 'Golkar' 'Gelar' 'Munas' 'TanggapistatusSetnov' 'di'\n",
      " 'KPK' 'http' ':' 'bit.ly' '2hKDT3o' 'http' ':' 'pic.twitter.com'\n",
      " 'KHWcQUxTDN']\n",
      "Dataset number: 1915\n",
      "Dataset number: 1965\n",
      "Tokenized Word Number: 31412\n",
      "Local Vocabulary Size: 5120\n",
      "Dictionary created successfully\n",
      "Local Embeddings Saved!\n",
      "defaultdict(<class 'int'>, {1: 3327, 0: 742, 2: 595})\n",
      "Saving successfully!\n",
      "defaultdict(<class 'int'>, {2: 219, 0: 389, 1: 1184})\n",
      "Saving successfully!\n",
      "defaultdict(<class 'int'>, {1: 1089, 0: 484, 2: 266})\n",
      "Saving successfully!\n",
      "Preprocessing Over!\n"
     ]
    }
   ],
   "source": [
    "dr = data_reader(config)\n",
    "path1 = 'data/indo/train.xml'\n",
    "path2 = 'data/indo/dev.xml'\n",
    "path3 = 'data/indo/test.xml'\n",
    "dr.read_train_test_data([path1, path2, path3])"
   ]
  },
  {
   "cell_type": "code",
   "execution_count": 3,
   "metadata": {},
   "outputs": [
    {
     "name": "stdout",
     "output_type": "stream",
     "text": [
      "Training Samples: 4664\n",
      "Validating Samples: 1792\n"
     ]
    }
   ],
   "source": [
    "dr = data_reader(config)\n",
    "train_data = dr.load_data('data/indo/train.xml.pkl')\n",
    "valid_data = dr.load_data('data/indo/dev.xml.pkl')\n",
    "\n",
    "print('Training Samples:', len(train_data))\n",
    "print('Validating Samples:', len(valid_data))\n",
    "\n",
    "\n",
    "dg_train = data_generator(config, train_data)\n",
    "dg_valid =data_generator(config, valid_data, False)\n"
   ]
  },
  {
   "cell_type": "code",
   "execution_count": 19,
   "metadata": {},
   "outputs": [],
   "source": [
    "sent_ids, mask_vecs, label_list, sent_lens, texts, targets = next(dg_train.get_ids_samples())"
   ]
  },
  {
   "cell_type": "code",
   "execution_count": 11,
   "metadata": {},
   "outputs": [
    {
     "name": "stderr",
     "output_type": "stream",
     "text": [
      "/home/nlp/anaconda3/envs/allennlp/lib/python3.6/site-packages/torch/serialization.py:425: SourceChangeWarning: source code of class 'model_crf_elmo_modified.AspectSent' has changed. you can retrieve the original source code by accessing the object's source attribute or set `torch.nn.Module.dump_patches = True` and use the patch tool to revert the changes.\n",
      "  warnings.warn(msg, SourceChangeWarning)\n"
     ]
    }
   ],
   "source": [
    "from model_crf_elmo_modified import *\n",
    "from data_reader_general import *\n",
    "from configs.config_crf_elmo import config\n",
    "model = torch.load('data/models/crf_elmo_model.pt')"
   ]
  },
  {
   "cell_type": "code",
   "execution_count": 12,
   "metadata": {},
   "outputs": [],
   "source": [
    "dr = data_reader(config)\n",
    "test_data = dr.load_data(config.test_path)\n",
    "dg_test =data_generator(config, test_data, False)"
   ]
  },
  {
   "cell_type": "code",
   "execution_count": 27,
   "metadata": {},
   "outputs": [
    {
     "data": {
      "text/plain": [
       "[['Desserts',\n",
       "  'are',\n",
       "  'almost',\n",
       "  'incredible',\n",
       "  ':',\n",
       "  'my',\n",
       "  'personal',\n",
       "  'favorite',\n",
       "  'is',\n",
       "  'their',\n",
       "  'Tart',\n",
       "  'of',\n",
       "  'the',\n",
       "  'Day',\n",
       "  '.'],\n",
       " [1, 0, 0, 0, 0, 0, 0, 0, 0, 0, 0, 0, 0, 0, 0],\n",
       " 0,\n",
       " [2256, 19, 304, 431, 208, 41, 721, 355, 6, 50, 4412, 12, 2, 1488, 1],\n",
       " 'Desserts are almost incredible: my personal favorite is their Tart of the Day.',\n",
       " ['Desserts']]"
      ]
     },
     "execution_count": 27,
     "metadata": {},
     "output_type": "execute_result"
    }
   ],
   "source": [
    "test_data[33]"
   ]
  },
  {
   "cell_type": "code",
   "execution_count": 3,
   "metadata": {},
   "outputs": [],
   "source": [
    "sent, mask, label, sent_len = next(dg_test.get_elmo_samples())"
   ]
  },
  {
   "cell_type": "code",
   "execution_count": 6,
   "metadata": {},
   "outputs": [],
   "source": [
    "pred_label, scores, _  = model.predict(sent, mask, sent_len)"
   ]
  },
  {
   "cell_type": "code",
   "execution_count": 8,
   "metadata": {},
   "outputs": [],
   "source": [
    "pred_label, scores, _  = model.predict(sent[:4], mask[:4], sent_len[:4])"
   ]
  },
  {
   "cell_type": "code",
   "execution_count": 9,
   "metadata": {},
   "outputs": [
    {
     "data": {
      "text/plain": [
       "tensor([[ 1.3977, -0.7609, -0.2642],\n",
       "        [ 1.4825, -0.6959, -0.2034],\n",
       "        [ 2.4864, -0.5700, -2.3823],\n",
       "        [ 2.5338, -0.5845, -2.3903]], grad_fn=<StackBackward>)"
      ]
     },
     "execution_count": 9,
     "metadata": {},
     "output_type": "execute_result"
    }
   ],
   "source": [
    "scores"
   ]
  },
  {
   "cell_type": "code",
   "execution_count": 5,
   "metadata": {},
   "outputs": [],
   "source": [
    "from parse_path import dependency_path\n",
    "dp = dependency_path()\n",
    "graph = dp.build_graph(text)\n",
    "mat = dp.compute_node_distance(graph, num)"
   ]
  },
  {
   "cell_type": "code",
   "execution_count": 21,
   "metadata": {},
   "outputs": [
    {
     "data": {
      "text/plain": [
       "EdgeView([('staff-2', 'the-0'), ('staff-2', 'wait-1'), ('staff-2', 'is-3'), ('is-3', 'freindly-5'), ('is-3', 'make-8'), ('freindly-5', 'very-4'), ('make-8', ',-6'), ('make-8', 'they-7'), ('make-8', 'feel-10'), ('make-8', '.-21'), ('feel-10', 'it-9'), ('feel-10', 'eating-14'), ('eating-14', 'like-11'), ('eating-14', 'you-12'), ('eating-14', \"'re-13\"), ('eating-14', 'in-15'), ('in-15', 'town-20'), ('town-20', 'a-16'), ('town-20', 'little-18'), ('town-20', 'european-19'), ('little-18', 'freindly-17')])"
      ]
     },
     "execution_count": 21,
     "metadata": {},
     "output_type": "execute_result"
    }
   ],
   "source": [
    "graph.edges"
   ]
  },
  {
   "cell_type": "code",
   "execution_count": 12,
   "metadata": {
    "collapsed": true
   },
   "outputs": [],
   "source": [
    "import torch\n",
    "def convert_mask_index(masks):\n",
    "    '''\n",
    "    Find the indice of none zeros values in masks, namely the target indice\n",
    "    '''\n",
    "    target_indice = []\n",
    "    for mask in masks:\n",
    "        indice = torch.nonzero(mask).squeeze(1).numpy()\n",
    "        target_indice.append(indice)\n",
    "    return target_indice"
   ]
  },
  {
   "cell_type": "code",
   "execution_count": 16,
   "metadata": {},
   "outputs": [],
   "source": [
    "targets = convert_mask_index(torch.LongTensor([mask]))"
   ]
  },
  {
   "cell_type": "code",
   "execution_count": 23,
   "metadata": {},
   "outputs": [],
   "source": [
    "max_w, _, _ = dp.compute_soft_targets_weights(mat, targets[0])"
   ]
  },
  {
   "cell_type": "code",
   "execution_count": 18,
   "metadata": {},
   "outputs": [
    {
     "data": {
      "text/plain": [
       "array([8.82496903e-01, 1.00000000e+00, 1.00000000e+00, 8.82496903e-01,\n",
       "       3.24652467e-01, 6.06530660e-01, 3.24652467e-01, 3.24652467e-01,\n",
       "       6.06530660e-01, 1.35335283e-01, 3.24652467e-01, 4.39369336e-02,\n",
       "       4.39369336e-02, 4.39369336e-02, 1.35335283e-01, 4.39369336e-02,\n",
       "       2.18749112e-03, 3.35462628e-04, 2.18749112e-03, 2.18749112e-03,\n",
       "       1.11089965e-02, 3.24652467e-01])"
      ]
     },
     "execution_count": 18,
     "metadata": {},
     "output_type": "execute_result"
    }
   ],
   "source": [
    "max_w"
   ]
  },
  {
   "cell_type": "code",
   "execution_count": 8,
   "metadata": {},
   "outputs": [],
   "source": [
    "nodes = graph.nodes\n",
    "node_order = np.array([int(node.split('-')[1]) for node in nodes])"
   ]
  },
  {
   "cell_type": "code",
   "execution_count": 24,
   "metadata": {},
   "outputs": [
    {
     "data": {
      "text/html": [
       "<svg xmlns=\"http://www.w3.org/2000/svg\" xmlns:xlink=\"http://www.w3.org/1999/xlink\" id=\"0\" class=\"displacy\" width=\"3550\" height=\"574.5\" style=\"max-width: none; height: 574.5px; color: #000000; background: #ffffff; font-family: Arial\">\n",
       "<text class=\"displacy-token\" fill=\"currentColor\" text-anchor=\"middle\" y=\"484.5\">\n",
       "    <tspan class=\"displacy-word\" fill=\"currentColor\" x=\"50\">The</tspan>\n",
       "    <tspan class=\"displacy-tag\" dy=\"2em\" fill=\"currentColor\" x=\"50\">DET</tspan>\n",
       "</text>\n",
       "\n",
       "<text class=\"displacy-token\" fill=\"currentColor\" text-anchor=\"middle\" y=\"484.5\">\n",
       "    <tspan class=\"displacy-word\" fill=\"currentColor\" x=\"225\">wait</tspan>\n",
       "    <tspan class=\"displacy-tag\" dy=\"2em\" fill=\"currentColor\" x=\"225\">NOUN</tspan>\n",
       "</text>\n",
       "\n",
       "<text class=\"displacy-token\" fill=\"currentColor\" text-anchor=\"middle\" y=\"484.5\">\n",
       "    <tspan class=\"displacy-word\" fill=\"currentColor\" x=\"400\">staff</tspan>\n",
       "    <tspan class=\"displacy-tag\" dy=\"2em\" fill=\"currentColor\" x=\"400\">NOUN</tspan>\n",
       "</text>\n",
       "\n",
       "<text class=\"displacy-token\" fill=\"currentColor\" text-anchor=\"middle\" y=\"484.5\">\n",
       "    <tspan class=\"displacy-word\" fill=\"currentColor\" x=\"575\">is</tspan>\n",
       "    <tspan class=\"displacy-tag\" dy=\"2em\" fill=\"currentColor\" x=\"575\">VERB</tspan>\n",
       "</text>\n",
       "\n",
       "<text class=\"displacy-token\" fill=\"currentColor\" text-anchor=\"middle\" y=\"484.5\">\n",
       "    <tspan class=\"displacy-word\" fill=\"currentColor\" x=\"750\">very</tspan>\n",
       "    <tspan class=\"displacy-tag\" dy=\"2em\" fill=\"currentColor\" x=\"750\">ADV</tspan>\n",
       "</text>\n",
       "\n",
       "<text class=\"displacy-token\" fill=\"currentColor\" text-anchor=\"middle\" y=\"484.5\">\n",
       "    <tspan class=\"displacy-word\" fill=\"currentColor\" x=\"925\">freindly,</tspan>\n",
       "    <tspan class=\"displacy-tag\" dy=\"2em\" fill=\"currentColor\" x=\"925\">ADV</tspan>\n",
       "</text>\n",
       "\n",
       "<text class=\"displacy-token\" fill=\"currentColor\" text-anchor=\"middle\" y=\"484.5\">\n",
       "    <tspan class=\"displacy-word\" fill=\"currentColor\" x=\"1100\">they</tspan>\n",
       "    <tspan class=\"displacy-tag\" dy=\"2em\" fill=\"currentColor\" x=\"1100\">PRON</tspan>\n",
       "</text>\n",
       "\n",
       "<text class=\"displacy-token\" fill=\"currentColor\" text-anchor=\"middle\" y=\"484.5\">\n",
       "    <tspan class=\"displacy-word\" fill=\"currentColor\" x=\"1275\">make</tspan>\n",
       "    <tspan class=\"displacy-tag\" dy=\"2em\" fill=\"currentColor\" x=\"1275\">VERB</tspan>\n",
       "</text>\n",
       "\n",
       "<text class=\"displacy-token\" fill=\"currentColor\" text-anchor=\"middle\" y=\"484.5\">\n",
       "    <tspan class=\"displacy-word\" fill=\"currentColor\" x=\"1450\">it</tspan>\n",
       "    <tspan class=\"displacy-tag\" dy=\"2em\" fill=\"currentColor\" x=\"1450\">PRON</tspan>\n",
       "</text>\n",
       "\n",
       "<text class=\"displacy-token\" fill=\"currentColor\" text-anchor=\"middle\" y=\"484.5\">\n",
       "    <tspan class=\"displacy-word\" fill=\"currentColor\" x=\"1625\">feel</tspan>\n",
       "    <tspan class=\"displacy-tag\" dy=\"2em\" fill=\"currentColor\" x=\"1625\">VERB</tspan>\n",
       "</text>\n",
       "\n",
       "<text class=\"displacy-token\" fill=\"currentColor\" text-anchor=\"middle\" y=\"484.5\">\n",
       "    <tspan class=\"displacy-word\" fill=\"currentColor\" x=\"1800\">like</tspan>\n",
       "    <tspan class=\"displacy-tag\" dy=\"2em\" fill=\"currentColor\" x=\"1800\">ADP</tspan>\n",
       "</text>\n",
       "\n",
       "<text class=\"displacy-token\" fill=\"currentColor\" text-anchor=\"middle\" y=\"484.5\">\n",
       "    <tspan class=\"displacy-word\" fill=\"currentColor\" x=\"1975\">you</tspan>\n",
       "    <tspan class=\"displacy-tag\" dy=\"2em\" fill=\"currentColor\" x=\"1975\">PRON</tspan>\n",
       "</text>\n",
       "\n",
       "<text class=\"displacy-token\" fill=\"currentColor\" text-anchor=\"middle\" y=\"484.5\">\n",
       "    <tspan class=\"displacy-word\" fill=\"currentColor\" x=\"2150\">'re</tspan>\n",
       "    <tspan class=\"displacy-tag\" dy=\"2em\" fill=\"currentColor\" x=\"2150\">VERB</tspan>\n",
       "</text>\n",
       "\n",
       "<text class=\"displacy-token\" fill=\"currentColor\" text-anchor=\"middle\" y=\"484.5\">\n",
       "    <tspan class=\"displacy-word\" fill=\"currentColor\" x=\"2325\">eating</tspan>\n",
       "    <tspan class=\"displacy-tag\" dy=\"2em\" fill=\"currentColor\" x=\"2325\">VERB</tspan>\n",
       "</text>\n",
       "\n",
       "<text class=\"displacy-token\" fill=\"currentColor\" text-anchor=\"middle\" y=\"484.5\">\n",
       "    <tspan class=\"displacy-word\" fill=\"currentColor\" x=\"2500\">in</tspan>\n",
       "    <tspan class=\"displacy-tag\" dy=\"2em\" fill=\"currentColor\" x=\"2500\">ADP</tspan>\n",
       "</text>\n",
       "\n",
       "<text class=\"displacy-token\" fill=\"currentColor\" text-anchor=\"middle\" y=\"484.5\">\n",
       "    <tspan class=\"displacy-word\" fill=\"currentColor\" x=\"2675\">a</tspan>\n",
       "    <tspan class=\"displacy-tag\" dy=\"2em\" fill=\"currentColor\" x=\"2675\">DET</tspan>\n",
       "</text>\n",
       "\n",
       "<text class=\"displacy-token\" fill=\"currentColor\" text-anchor=\"middle\" y=\"484.5\">\n",
       "    <tspan class=\"displacy-word\" fill=\"currentColor\" x=\"2850\">freindly</tspan>\n",
       "    <tspan class=\"displacy-tag\" dy=\"2em\" fill=\"currentColor\" x=\"2850\">ADV</tspan>\n",
       "</text>\n",
       "\n",
       "<text class=\"displacy-token\" fill=\"currentColor\" text-anchor=\"middle\" y=\"484.5\">\n",
       "    <tspan class=\"displacy-word\" fill=\"currentColor\" x=\"3025\">little</tspan>\n",
       "    <tspan class=\"displacy-tag\" dy=\"2em\" fill=\"currentColor\" x=\"3025\">ADJ</tspan>\n",
       "</text>\n",
       "\n",
       "<text class=\"displacy-token\" fill=\"currentColor\" text-anchor=\"middle\" y=\"484.5\">\n",
       "    <tspan class=\"displacy-word\" fill=\"currentColor\" x=\"3200\">european</tspan>\n",
       "    <tspan class=\"displacy-tag\" dy=\"2em\" fill=\"currentColor\" x=\"3200\">ADJ</tspan>\n",
       "</text>\n",
       "\n",
       "<text class=\"displacy-token\" fill=\"currentColor\" text-anchor=\"middle\" y=\"484.5\">\n",
       "    <tspan class=\"displacy-word\" fill=\"currentColor\" x=\"3375\">town.</tspan>\n",
       "    <tspan class=\"displacy-tag\" dy=\"2em\" fill=\"currentColor\" x=\"3375\">NOUN</tspan>\n",
       "</text>\n",
       "\n",
       "<g class=\"displacy-arrow\">\n",
       "    <path class=\"displacy-arc\" id=\"arrow-0-0\" stroke-width=\"2px\" d=\"M70,439.5 C70,264.5 385.0,264.5 385.0,439.5\" fill=\"none\" stroke=\"currentColor\"/>\n",
       "    <text dy=\"1.25em\" style=\"font-size: 0.8em; letter-spacing: 1px\">\n",
       "        <textPath xlink:href=\"#arrow-0-0\" class=\"displacy-label\" startOffset=\"50%\" fill=\"currentColor\" text-anchor=\"middle\">det</textPath>\n",
       "    </text>\n",
       "    <path class=\"displacy-arrowhead\" d=\"M70,441.5 L62,429.5 78,429.5\" fill=\"currentColor\"/>\n",
       "</g>\n",
       "\n",
       "<g class=\"displacy-arrow\">\n",
       "    <path class=\"displacy-arc\" id=\"arrow-0-1\" stroke-width=\"2px\" d=\"M245,439.5 C245,352.0 380.0,352.0 380.0,439.5\" fill=\"none\" stroke=\"currentColor\"/>\n",
       "    <text dy=\"1.25em\" style=\"font-size: 0.8em; letter-spacing: 1px\">\n",
       "        <textPath xlink:href=\"#arrow-0-1\" class=\"displacy-label\" startOffset=\"50%\" fill=\"currentColor\" text-anchor=\"middle\">amod</textPath>\n",
       "    </text>\n",
       "    <path class=\"displacy-arrowhead\" d=\"M245,441.5 L237,429.5 253,429.5\" fill=\"currentColor\"/>\n",
       "</g>\n",
       "\n",
       "<g class=\"displacy-arrow\">\n",
       "    <path class=\"displacy-arc\" id=\"arrow-0-2\" stroke-width=\"2px\" d=\"M420,439.5 C420,352.0 555.0,352.0 555.0,439.5\" fill=\"none\" stroke=\"currentColor\"/>\n",
       "    <text dy=\"1.25em\" style=\"font-size: 0.8em; letter-spacing: 1px\">\n",
       "        <textPath xlink:href=\"#arrow-0-2\" class=\"displacy-label\" startOffset=\"50%\" fill=\"currentColor\" text-anchor=\"middle\">nsubj</textPath>\n",
       "    </text>\n",
       "    <path class=\"displacy-arrowhead\" d=\"M420,441.5 L412,429.5 428,429.5\" fill=\"currentColor\"/>\n",
       "</g>\n",
       "\n",
       "<g class=\"displacy-arrow\">\n",
       "    <path class=\"displacy-arc\" id=\"arrow-0-3\" stroke-width=\"2px\" d=\"M595,439.5 C595,89.5 1270.0,89.5 1270.0,439.5\" fill=\"none\" stroke=\"currentColor\"/>\n",
       "    <text dy=\"1.25em\" style=\"font-size: 0.8em; letter-spacing: 1px\">\n",
       "        <textPath xlink:href=\"#arrow-0-3\" class=\"displacy-label\" startOffset=\"50%\" fill=\"currentColor\" text-anchor=\"middle\">ccomp</textPath>\n",
       "    </text>\n",
       "    <path class=\"displacy-arrowhead\" d=\"M595,441.5 L587,429.5 603,429.5\" fill=\"currentColor\"/>\n",
       "</g>\n",
       "\n",
       "<g class=\"displacy-arrow\">\n",
       "    <path class=\"displacy-arc\" id=\"arrow-0-4\" stroke-width=\"2px\" d=\"M770,439.5 C770,352.0 905.0,352.0 905.0,439.5\" fill=\"none\" stroke=\"currentColor\"/>\n",
       "    <text dy=\"1.25em\" style=\"font-size: 0.8em; letter-spacing: 1px\">\n",
       "        <textPath xlink:href=\"#arrow-0-4\" class=\"displacy-label\" startOffset=\"50%\" fill=\"currentColor\" text-anchor=\"middle\">advmod</textPath>\n",
       "    </text>\n",
       "    <path class=\"displacy-arrowhead\" d=\"M770,441.5 L762,429.5 778,429.5\" fill=\"currentColor\"/>\n",
       "</g>\n",
       "\n",
       "<g class=\"displacy-arrow\">\n",
       "    <path class=\"displacy-arc\" id=\"arrow-0-5\" stroke-width=\"2px\" d=\"M595,439.5 C595,264.5 910.0,264.5 910.0,439.5\" fill=\"none\" stroke=\"currentColor\"/>\n",
       "    <text dy=\"1.25em\" style=\"font-size: 0.8em; letter-spacing: 1px\">\n",
       "        <textPath xlink:href=\"#arrow-0-5\" class=\"displacy-label\" startOffset=\"50%\" fill=\"currentColor\" text-anchor=\"middle\">acomp</textPath>\n",
       "    </text>\n",
       "    <path class=\"displacy-arrowhead\" d=\"M910.0,441.5 L918.0,429.5 902.0,429.5\" fill=\"currentColor\"/>\n",
       "</g>\n",
       "\n",
       "<g class=\"displacy-arrow\">\n",
       "    <path class=\"displacy-arc\" id=\"arrow-0-6\" stroke-width=\"2px\" d=\"M1120,439.5 C1120,352.0 1255.0,352.0 1255.0,439.5\" fill=\"none\" stroke=\"currentColor\"/>\n",
       "    <text dy=\"1.25em\" style=\"font-size: 0.8em; letter-spacing: 1px\">\n",
       "        <textPath xlink:href=\"#arrow-0-6\" class=\"displacy-label\" startOffset=\"50%\" fill=\"currentColor\" text-anchor=\"middle\">nsubj</textPath>\n",
       "    </text>\n",
       "    <path class=\"displacy-arrowhead\" d=\"M1120,441.5 L1112,429.5 1128,429.5\" fill=\"currentColor\"/>\n",
       "</g>\n",
       "\n",
       "<g class=\"displacy-arrow\">\n",
       "    <path class=\"displacy-arc\" id=\"arrow-0-7\" stroke-width=\"2px\" d=\"M1470,439.5 C1470,352.0 1605.0,352.0 1605.0,439.5\" fill=\"none\" stroke=\"currentColor\"/>\n",
       "    <text dy=\"1.25em\" style=\"font-size: 0.8em; letter-spacing: 1px\">\n",
       "        <textPath xlink:href=\"#arrow-0-7\" class=\"displacy-label\" startOffset=\"50%\" fill=\"currentColor\" text-anchor=\"middle\">nsubj</textPath>\n",
       "    </text>\n",
       "    <path class=\"displacy-arrowhead\" d=\"M1470,441.5 L1462,429.5 1478,429.5\" fill=\"currentColor\"/>\n",
       "</g>\n",
       "\n",
       "<g class=\"displacy-arrow\">\n",
       "    <path class=\"displacy-arc\" id=\"arrow-0-8\" stroke-width=\"2px\" d=\"M1295,439.5 C1295,264.5 1610.0,264.5 1610.0,439.5\" fill=\"none\" stroke=\"currentColor\"/>\n",
       "    <text dy=\"1.25em\" style=\"font-size: 0.8em; letter-spacing: 1px\">\n",
       "        <textPath xlink:href=\"#arrow-0-8\" class=\"displacy-label\" startOffset=\"50%\" fill=\"currentColor\" text-anchor=\"middle\">ccomp</textPath>\n",
       "    </text>\n",
       "    <path class=\"displacy-arrowhead\" d=\"M1610.0,441.5 L1618.0,429.5 1602.0,429.5\" fill=\"currentColor\"/>\n",
       "</g>\n",
       "\n",
       "<g class=\"displacy-arrow\">\n",
       "    <path class=\"displacy-arc\" id=\"arrow-0-9\" stroke-width=\"2px\" d=\"M1820,439.5 C1820,177.0 2315.0,177.0 2315.0,439.5\" fill=\"none\" stroke=\"currentColor\"/>\n",
       "    <text dy=\"1.25em\" style=\"font-size: 0.8em; letter-spacing: 1px\">\n",
       "        <textPath xlink:href=\"#arrow-0-9\" class=\"displacy-label\" startOffset=\"50%\" fill=\"currentColor\" text-anchor=\"middle\">mark</textPath>\n",
       "    </text>\n",
       "    <path class=\"displacy-arrowhead\" d=\"M1820,441.5 L1812,429.5 1828,429.5\" fill=\"currentColor\"/>\n",
       "</g>\n",
       "\n",
       "<g class=\"displacy-arrow\">\n",
       "    <path class=\"displacy-arc\" id=\"arrow-0-10\" stroke-width=\"2px\" d=\"M1995,439.5 C1995,264.5 2310.0,264.5 2310.0,439.5\" fill=\"none\" stroke=\"currentColor\"/>\n",
       "    <text dy=\"1.25em\" style=\"font-size: 0.8em; letter-spacing: 1px\">\n",
       "        <textPath xlink:href=\"#arrow-0-10\" class=\"displacy-label\" startOffset=\"50%\" fill=\"currentColor\" text-anchor=\"middle\">nsubj</textPath>\n",
       "    </text>\n",
       "    <path class=\"displacy-arrowhead\" d=\"M1995,441.5 L1987,429.5 2003,429.5\" fill=\"currentColor\"/>\n",
       "</g>\n",
       "\n",
       "<g class=\"displacy-arrow\">\n",
       "    <path class=\"displacy-arc\" id=\"arrow-0-11\" stroke-width=\"2px\" d=\"M2170,439.5 C2170,352.0 2305.0,352.0 2305.0,439.5\" fill=\"none\" stroke=\"currentColor\"/>\n",
       "    <text dy=\"1.25em\" style=\"font-size: 0.8em; letter-spacing: 1px\">\n",
       "        <textPath xlink:href=\"#arrow-0-11\" class=\"displacy-label\" startOffset=\"50%\" fill=\"currentColor\" text-anchor=\"middle\">aux</textPath>\n",
       "    </text>\n",
       "    <path class=\"displacy-arrowhead\" d=\"M2170,441.5 L2162,429.5 2178,429.5\" fill=\"currentColor\"/>\n",
       "</g>\n",
       "\n",
       "<g class=\"displacy-arrow\">\n",
       "    <path class=\"displacy-arc\" id=\"arrow-0-12\" stroke-width=\"2px\" d=\"M1645,439.5 C1645,89.5 2320.0,89.5 2320.0,439.5\" fill=\"none\" stroke=\"currentColor\"/>\n",
       "    <text dy=\"1.25em\" style=\"font-size: 0.8em; letter-spacing: 1px\">\n",
       "        <textPath xlink:href=\"#arrow-0-12\" class=\"displacy-label\" startOffset=\"50%\" fill=\"currentColor\" text-anchor=\"middle\">advcl</textPath>\n",
       "    </text>\n",
       "    <path class=\"displacy-arrowhead\" d=\"M2320.0,441.5 L2328.0,429.5 2312.0,429.5\" fill=\"currentColor\"/>\n",
       "</g>\n",
       "\n",
       "<g class=\"displacy-arrow\">\n",
       "    <path class=\"displacy-arc\" id=\"arrow-0-13\" stroke-width=\"2px\" d=\"M2345,439.5 C2345,352.0 2480.0,352.0 2480.0,439.5\" fill=\"none\" stroke=\"currentColor\"/>\n",
       "    <text dy=\"1.25em\" style=\"font-size: 0.8em; letter-spacing: 1px\">\n",
       "        <textPath xlink:href=\"#arrow-0-13\" class=\"displacy-label\" startOffset=\"50%\" fill=\"currentColor\" text-anchor=\"middle\">prep</textPath>\n",
       "    </text>\n",
       "    <path class=\"displacy-arrowhead\" d=\"M2480.0,441.5 L2488.0,429.5 2472.0,429.5\" fill=\"currentColor\"/>\n",
       "</g>\n",
       "\n",
       "<g class=\"displacy-arrow\">\n",
       "    <path class=\"displacy-arc\" id=\"arrow-0-14\" stroke-width=\"2px\" d=\"M2695,439.5 C2695,89.5 3370.0,89.5 3370.0,439.5\" fill=\"none\" stroke=\"currentColor\"/>\n",
       "    <text dy=\"1.25em\" style=\"font-size: 0.8em; letter-spacing: 1px\">\n",
       "        <textPath xlink:href=\"#arrow-0-14\" class=\"displacy-label\" startOffset=\"50%\" fill=\"currentColor\" text-anchor=\"middle\">det</textPath>\n",
       "    </text>\n",
       "    <path class=\"displacy-arrowhead\" d=\"M2695,441.5 L2687,429.5 2703,429.5\" fill=\"currentColor\"/>\n",
       "</g>\n",
       "\n",
       "<g class=\"displacy-arrow\">\n",
       "    <path class=\"displacy-arc\" id=\"arrow-0-15\" stroke-width=\"2px\" d=\"M2870,439.5 C2870,352.0 3005.0,352.0 3005.0,439.5\" fill=\"none\" stroke=\"currentColor\"/>\n",
       "    <text dy=\"1.25em\" style=\"font-size: 0.8em; letter-spacing: 1px\">\n",
       "        <textPath xlink:href=\"#arrow-0-15\" class=\"displacy-label\" startOffset=\"50%\" fill=\"currentColor\" text-anchor=\"middle\">advmod</textPath>\n",
       "    </text>\n",
       "    <path class=\"displacy-arrowhead\" d=\"M2870,441.5 L2862,429.5 2878,429.5\" fill=\"currentColor\"/>\n",
       "</g>\n",
       "\n",
       "<g class=\"displacy-arrow\">\n",
       "    <path class=\"displacy-arc\" id=\"arrow-0-16\" stroke-width=\"2px\" d=\"M3045,439.5 C3045,264.5 3360.0,264.5 3360.0,439.5\" fill=\"none\" stroke=\"currentColor\"/>\n",
       "    <text dy=\"1.25em\" style=\"font-size: 0.8em; letter-spacing: 1px\">\n",
       "        <textPath xlink:href=\"#arrow-0-16\" class=\"displacy-label\" startOffset=\"50%\" fill=\"currentColor\" text-anchor=\"middle\">amod</textPath>\n",
       "    </text>\n",
       "    <path class=\"displacy-arrowhead\" d=\"M3045,441.5 L3037,429.5 3053,429.5\" fill=\"currentColor\"/>\n",
       "</g>\n",
       "\n",
       "<g class=\"displacy-arrow\">\n",
       "    <path class=\"displacy-arc\" id=\"arrow-0-17\" stroke-width=\"2px\" d=\"M3220,439.5 C3220,352.0 3355.0,352.0 3355.0,439.5\" fill=\"none\" stroke=\"currentColor\"/>\n",
       "    <text dy=\"1.25em\" style=\"font-size: 0.8em; letter-spacing: 1px\">\n",
       "        <textPath xlink:href=\"#arrow-0-17\" class=\"displacy-label\" startOffset=\"50%\" fill=\"currentColor\" text-anchor=\"middle\">amod</textPath>\n",
       "    </text>\n",
       "    <path class=\"displacy-arrowhead\" d=\"M3220,441.5 L3212,429.5 3228,429.5\" fill=\"currentColor\"/>\n",
       "</g>\n",
       "\n",
       "<g class=\"displacy-arrow\">\n",
       "    <path class=\"displacy-arc\" id=\"arrow-0-18\" stroke-width=\"2px\" d=\"M2520,439.5 C2520,2.0 3375.0,2.0 3375.0,439.5\" fill=\"none\" stroke=\"currentColor\"/>\n",
       "    <text dy=\"1.25em\" style=\"font-size: 0.8em; letter-spacing: 1px\">\n",
       "        <textPath xlink:href=\"#arrow-0-18\" class=\"displacy-label\" startOffset=\"50%\" fill=\"currentColor\" text-anchor=\"middle\">pobj</textPath>\n",
       "    </text>\n",
       "    <path class=\"displacy-arrowhead\" d=\"M3375.0,441.5 L3383.0,429.5 3367.0,429.5\" fill=\"currentColor\"/>\n",
       "</g>\n",
       "</svg>"
      ],
      "text/plain": [
       "<IPython.core.display.HTML object>"
      ]
     },
     "metadata": {},
     "output_type": "display_data"
    }
   ],
   "source": [
    "from spacy import displacy\n",
    "doc = nlp(text)\n",
    "displacy.render(doc, style='dep', jupyter=True)"
   ]
  },
  {
   "cell_type": "code",
   "execution_count": 19,
   "metadata": {},
   "outputs": [
    {
     "data": {
      "text/plain": [
       "\"The wait staff is very freindly, they make it feel like you're eating in a freindly little european town.\""
      ]
     },
     "execution_count": 19,
     "metadata": {},
     "output_type": "execute_result"
    }
   ],
   "source": [
    "text"
   ]
  },
  {
   "cell_type": "code",
   "execution_count": null,
   "metadata": {
    "collapsed": true
   },
   "outputs": [],
   "source": []
  },
  {
   "cell_type": "code",
   "execution_count": 6,
   "metadata": {},
   "outputs": [
    {
     "ename": "TypeError",
     "evalue": "slice indices must be integers or None or have an __index__ method",
     "output_type": "error",
     "traceback": [
      "\u001b[0;31m---------------------------------------------------------------------------\u001b[0m",
      "\u001b[0;31mTypeError\u001b[0m                                 Traceback (most recent call last)",
      "\u001b[0;32m<ipython-input-6-331fd2c22a89>\u001b[0m in \u001b[0;36m<module>\u001b[0;34m()\u001b[0m\n\u001b[1;32m      3\u001b[0m     \u001b[0mnum\u001b[0m \u001b[0;34m=\u001b[0m \u001b[0mlen\u001b[0m\u001b[0;34m(\u001b[0m\u001b[0mitem\u001b[0m\u001b[0;34m[\u001b[0m\u001b[0;36m0\u001b[0m\u001b[0;34m]\u001b[0m\u001b[0;34m)\u001b[0m\u001b[0;34m\u001b[0m\u001b[0m\n\u001b[1;32m      4\u001b[0m     \u001b[0mgraph\u001b[0m \u001b[0;34m=\u001b[0m \u001b[0mdp\u001b[0m\u001b[0;34m.\u001b[0m\u001b[0mbuild_graph\u001b[0m\u001b[0;34m(\u001b[0m\u001b[0mtext\u001b[0m\u001b[0;34m)\u001b[0m\u001b[0;34m\u001b[0m\u001b[0m\n\u001b[0;32m----> 5\u001b[0;31m     \u001b[0mmat\u001b[0m \u001b[0;34m=\u001b[0m \u001b[0mdp\u001b[0m\u001b[0;34m.\u001b[0m\u001b[0mcompute_node_distance\u001b[0m\u001b[0;34m(\u001b[0m\u001b[0mgraph\u001b[0m\u001b[0;34m,\u001b[0m \u001b[0mnum\u001b[0m\u001b[0;34m)\u001b[0m\u001b[0;34m\u001b[0m\u001b[0m\n\u001b[0m\u001b[1;32m      6\u001b[0m     \u001b[0;32mif\u001b[0m \u001b[0mnum\u001b[0m \u001b[0;34m!=\u001b[0m \u001b[0mlen\u001b[0m\u001b[0;34m(\u001b[0m\u001b[0mmat\u001b[0m\u001b[0;34m)\u001b[0m\u001b[0;34m:\u001b[0m\u001b[0;34m\u001b[0m\u001b[0m\n\u001b[1;32m      7\u001b[0m         \u001b[0mprint\u001b[0m\u001b[0;34m(\u001b[0m\u001b[0mtext\u001b[0m\u001b[0;34m)\u001b[0m\u001b[0;34m\u001b[0m\u001b[0m\n",
      "\u001b[0;32m~/Documents/GitHub/SA-Sent/parse_path.py\u001b[0m in \u001b[0;36mcompute_node_distance\u001b[0;34m(self, graph, word_num)\u001b[0m\n\u001b[1;32m     50\u001b[0m \u001b[0;34m\u001b[0m\u001b[0m\n\u001b[1;32m     51\u001b[0m         \u001b[0;32mfor\u001b[0m \u001b[0mi\u001b[0m \u001b[0;32min\u001b[0m \u001b[0mnodes\u001b[0m\u001b[0;34m:\u001b[0m\u001b[0;34m\u001b[0m\u001b[0m\n\u001b[0;32m---> 52\u001b[0;31m             \u001b[0;32mfor\u001b[0m \u001b[0mj\u001b[0m \u001b[0;32min\u001b[0m \u001b[0mnodes\u001b[0m\u001b[0;34m[\u001b[0m\u001b[0mi\u001b[0m\u001b[0;34m:\u001b[0m\u001b[0;34m]\u001b[0m\u001b[0;34m:\u001b[0m\u001b[0;34m\u001b[0m\u001b[0m\n\u001b[0m\u001b[1;32m     53\u001b[0m                 \u001b[0mmat\u001b[0m\u001b[0;34m[\u001b[0m\u001b[0mi\u001b[0m\u001b[0;34m,\u001b[0m \u001b[0mi\u001b[0m\u001b[0;34m]\u001b[0m \u001b[0;34m=\u001b[0m \u001b[0;36m0\u001b[0m\u001b[0;34m\u001b[0m\u001b[0m\n\u001b[1;32m     54\u001b[0m \u001b[0;34m\u001b[0m\u001b[0m\n",
      "\u001b[0;31mTypeError\u001b[0m: slice indices must be integers or None or have an __index__ method"
     ]
    }
   ],
   "source": [
    "for item in train_data:\n",
    "    text = item[4]\n",
    "    num = len(item[0])\n",
    "    graph = dp.build_graph(text)\n",
    "    mat = dp.compute_node_distance(graph, num)\n",
    "    if num != len(mat):\n",
    "        print(text)\n",
    "        print(item[0])\n",
    "        print(len(mat))\n",
    "        print(graph.nodes)\n",
    "    "
   ]
  },
  {
   "cell_type": "code",
   "execution_count": 38,
   "metadata": {},
   "outputs": [
    {
     "data": {
      "text/plain": [
       "22"
      ]
     },
     "execution_count": 38,
     "metadata": {},
     "output_type": "execute_result"
    }
   ],
   "source": [
    "len(mat)"
   ]
  },
  {
   "cell_type": "code",
   "execution_count": 25,
   "metadata": {
    "collapsed": true
   },
   "outputs": [],
   "source": [
    "import en_core_web_sm\n",
    "spanlp = en_core_web_sm.load()\n",
    "document = spanlp('The sangria was pretty tasty and good on a hot muggy day.')\n",
    "edges = []\n",
    "word_list = []\n",
    "for token in document:\n",
    "    # FYI https://spacy.io/docs/api/token\n",
    "    word_list.append(token.text)\n",
    "    \n",
    "    for child in token.children:\n",
    "        edges.append(('{0}-{1}'.format(token,token.i),\n",
    "                    '{0}-{1}'.format(child,child.i)))"
   ]
  },
  {
   "cell_type": "code",
   "execution_count": 26,
   "metadata": {},
   "outputs": [
    {
     "data": {
      "text/plain": [
       "[('sangria-1', 'The-0'),\n",
       " ('was-2', 'sangria-1'),\n",
       " ('was-2', 'tasty-4'),\n",
       " ('was-2', 'on-7'),\n",
       " ('was-2', '.-12'),\n",
       " ('tasty-4', 'pretty-3'),\n",
       " ('tasty-4', 'and-5'),\n",
       " ('tasty-4', 'good-6'),\n",
       " ('on-7', 'day-11'),\n",
       " ('day-11', 'a-8'),\n",
       " ('day-11', 'hot-9'),\n",
       " ('day-11', 'muggy-10')]"
      ]
     },
     "execution_count": 26,
     "metadata": {},
     "output_type": "execute_result"
    }
   ],
   "source": [
    "edges"
   ]
  },
  {
   "cell_type": "code",
   "execution_count": 29,
   "metadata": {},
   "outputs": [],
   "source": [
    "import networkx as nx\n",
    "graph = nx.Graph(edges)"
   ]
  },
  {
   "cell_type": "code",
   "execution_count": 30,
   "metadata": {},
   "outputs": [
    {
     "data": {
      "text/plain": [
       "13"
      ]
     },
     "execution_count": 30,
     "metadata": {},
     "output_type": "execute_result"
    }
   ],
   "source": [
    "len(graph.nodes)"
   ]
  },
  {
   "cell_type": "code",
   "execution_count": 27,
   "metadata": {},
   "outputs": [
    {
     "data": {
      "text/plain": [
       "13"
      ]
     },
     "execution_count": 27,
     "metadata": {},
     "output_type": "execute_result"
    }
   ],
   "source": [
    "len(word_list)"
   ]
  },
  {
   "cell_type": "code",
   "execution_count": 4,
   "metadata": {
    "collapsed": true
   },
   "outputs": [],
   "source": [
    "sent_vecs, mask_vecs, label_list, sent_lens, tokens = next(dg_valid.get_ids_samples())"
   ]
  },
  {
   "cell_type": "code",
   "execution_count": 5,
   "metadata": {},
   "outputs": [
    {
     "data": {
      "text/plain": [
       "tensor([ 0,  0,  0,  0,  0,  0,  0,  0,  0,  0,  0,  0,  0,  0,\n",
       "         0,  0,  0,  0,  0,  0,  0,  0,  0,  0,  0,  0,  0,  0,\n",
       "         0,  0,  0,  0,  0,  0,  0,  0,  0,  0,  0,  0,  1,  0])"
      ]
     },
     "execution_count": 5,
     "metadata": {},
     "output_type": "execute_result"
    }
   ],
   "source": [
    "mask_vecs[0]"
   ]
  },
  {
   "cell_type": "code",
   "execution_count": 6,
   "metadata": {},
   "outputs": [
    {
     "data": {
      "text/plain": [
       "tensor([   52,  2175,    11,  2176,   220,   102,    10,     3,   134,\n",
       "          983,  2177,     3,   451,  2178,     1,  2179,    11,   152,\n",
       "          834,   233,   218,    44,   260,    32,  1482,    37,     4,\n",
       "          511,    32,  2180,  2181,    38,     6,   116,  1184,    13,\n",
       "            1,   141,   107,     4,   984,     2])"
      ]
     },
     "execution_count": 6,
     "metadata": {},
     "output_type": "execute_result"
    }
   ],
   "source": [
    "sent_vecs[0]"
   ]
  },
  {
   "cell_type": "code",
   "execution_count": 10,
   "metadata": {
    "collapsed": true
   },
   "outputs": [],
   "source": [
    "def visualize_attention(dr_test, model):\n",
    "    print(\"Evaluting\")\n",
    "    dr_test.reset_samples()\n",
    "    model.eval()\n",
    "    all_counter = 0\n",
    "    correct_count = 0\n",
    "    while dr_test.index < dr_test.data_len:\n",
    "        sent, mask, label, sent_len, tokens = next(dr_test.get_ids_samples())\n",
    "        sent, target = cat_layer(sent, mask)\n",
    "        if config.if_gpu: \n",
    "            sent, target = sent.cuda(), target.cuda()\n",
    "            label, sent_len = label.cuda(), sent_len.cuda()\n",
    "        pred_label, attentions  = model.predict(sent, target, sent_len) \n",
    "        print(tokens[:3])\n",
    "        print(mask[:3])\n",
    "        print(attentions[:3])\n",
    "        break"
   ]
  },
  {
   "cell_type": "code",
   "execution_count": null,
   "metadata": {
    "collapsed": true
   },
   "outputs": [],
   "source": []
  },
  {
   "cell_type": "code",
   "execution_count": 37,
   "metadata": {
    "collapsed": true
   },
   "outputs": [],
   "source": [
    "import numpy as np\n",
    "emb_dim= 300\n",
    "def load_pretrained_word_emb(file_path):\n",
    "    '''\n",
    "    Load a specified vocabulary\n",
    "    '''\n",
    "    word_emb = {}\n",
    "    vocab_words = set()\n",
    "    with open(file_path) as fi:\n",
    "        for line in fi:\n",
    "            items = line.split()\n",
    "            word = ' '.join(items[:-1*emb_dim])\n",
    "            vec = items[-1*emb_dim:]\n",
    "            word_emb[word] = np.array(vec, dtype=np.float32)\n",
    "            vocab_words.add(word)\n",
    "    return word_emb, vocab_words"
   ]
  },
  {
   "cell_type": "code",
   "execution_count": 38,
   "metadata": {},
   "outputs": [
    {
     "ename": "KeyboardInterrupt",
     "evalue": "",
     "output_type": "error",
     "traceback": [
      "\u001b[0;31m---------------------------------------------------------------------------\u001b[0m",
      "\u001b[0;31mKeyboardInterrupt\u001b[0m                         Traceback (most recent call last)",
      "\u001b[0;32m<ipython-input-38-c7389998d5a4>\u001b[0m in \u001b[0;36m<module>\u001b[0;34m()\u001b[0m\n\u001b[1;32m      1\u001b[0m \u001b[0mfile\u001b[0m \u001b[0;34m=\u001b[0m \u001b[0;34m'../data/glove.840B.300d.txt'\u001b[0m\u001b[0;34m\u001b[0m\u001b[0m\n\u001b[0;32m----> 2\u001b[0;31m \u001b[0ma\u001b[0m\u001b[0;34m,\u001b[0m\u001b[0mb\u001b[0m \u001b[0;34m=\u001b[0m \u001b[0mload_pretrained_word_emb\u001b[0m\u001b[0;34m(\u001b[0m\u001b[0mfile\u001b[0m\u001b[0;34m)\u001b[0m\u001b[0;34m\u001b[0m\u001b[0m\n\u001b[0m",
      "\u001b[0;32m<ipython-input-37-ec37d2ba14c9>\u001b[0m in \u001b[0;36mload_pretrained_word_emb\u001b[0;34m(file_path)\u001b[0m\n\u001b[1;32m     14\u001b[0m             \u001b[0mword\u001b[0m \u001b[0;34m=\u001b[0m \u001b[0;34m' '\u001b[0m\u001b[0;34m.\u001b[0m\u001b[0mjoin\u001b[0m\u001b[0;34m(\u001b[0m\u001b[0mitems\u001b[0m\u001b[0;34m[\u001b[0m\u001b[0;34m:\u001b[0m\u001b[0;34m-\u001b[0m\u001b[0;36m1\u001b[0m\u001b[0;34m*\u001b[0m\u001b[0memb_dim\u001b[0m\u001b[0;34m]\u001b[0m\u001b[0;34m)\u001b[0m\u001b[0;34m\u001b[0m\u001b[0m\n\u001b[1;32m     15\u001b[0m             \u001b[0mvec\u001b[0m \u001b[0;34m=\u001b[0m \u001b[0mitems\u001b[0m\u001b[0;34m[\u001b[0m\u001b[0;34m-\u001b[0m\u001b[0;36m1\u001b[0m\u001b[0;34m*\u001b[0m\u001b[0memb_dim\u001b[0m\u001b[0;34m:\u001b[0m\u001b[0;34m]\u001b[0m\u001b[0;34m\u001b[0m\u001b[0m\n\u001b[0;32m---> 16\u001b[0;31m             \u001b[0mword_emb\u001b[0m\u001b[0;34m[\u001b[0m\u001b[0mword\u001b[0m\u001b[0;34m]\u001b[0m \u001b[0;34m=\u001b[0m \u001b[0mnp\u001b[0m\u001b[0;34m.\u001b[0m\u001b[0marray\u001b[0m\u001b[0;34m(\u001b[0m\u001b[0mvec\u001b[0m\u001b[0;34m,\u001b[0m \u001b[0mdtype\u001b[0m\u001b[0;34m=\u001b[0m\u001b[0mnp\u001b[0m\u001b[0;34m.\u001b[0m\u001b[0mfloat32\u001b[0m\u001b[0;34m)\u001b[0m\u001b[0;34m\u001b[0m\u001b[0m\n\u001b[0m\u001b[1;32m     17\u001b[0m             \u001b[0mvocab_words\u001b[0m\u001b[0;34m.\u001b[0m\u001b[0madd\u001b[0m\u001b[0;34m(\u001b[0m\u001b[0mitems\u001b[0m\u001b[0;34m[\u001b[0m\u001b[0;36m0\u001b[0m\u001b[0;34m]\u001b[0m\u001b[0;34m)\u001b[0m\u001b[0;34m\u001b[0m\u001b[0m\n\u001b[1;32m     18\u001b[0m             \u001b[0mi\u001b[0m \u001b[0;34m+=\u001b[0m \u001b[0;36m1\u001b[0m\u001b[0;34m\u001b[0m\u001b[0m\n",
      "\u001b[0;31mKeyboardInterrupt\u001b[0m: "
     ]
    }
   ],
   "source": [
    "file = '../data/glove.840B.300d.txt'\n",
    "a,b = load_pretrained_word_emb(file)"
   ]
  },
  {
   "cell_type": "code",
   "execution_count": 33,
   "metadata": {
    "collapsed": true
   },
   "outputs": [],
   "source": [
    "a ='hello -0.1573 -0.29517 0.30453 -0.54773 0.098293 -0.1776 0.21662 0.19261 -0.21101 0.53788 -0.047755 0.40675 0.023592 -0.32814 0.046858 0.19367 0.25565 -0.021019 -0.15957 -0.1023 0.20303 -0.043333 0.11618 -0.18486 0.0011948 -0.052301 0.34587 0.052335 0.16774 -0.21384 0.055947 0.24934 -0.12179 0.16749 0.28922 -0.033739 0.3015 -0.13241 0.092635 0.37155 -0.2884 -0.0052731 -0.001005 -0.51153 -0.28476 -0.20139 0.11837 -0.0055891 0.43604 0.16796 -0.2701 0.063957 -0.093253 -0.22079 0.36501 0.06545 0.23941 -0.19292 0.098293 0.12172 -0.1168 -0.027436 0.20507 -0.39139 -0.23111 0.46239 0.22888 -0.028415 -0.1798 0.23817 0.28093 -0.47935 0.23177 -0.35587 0.14246 0.11861 0.011018 0.091986 0.0054809 -0.39955 -0.40183 -0.10629 -0.30851 0.12383 -0.16737 -0.43569 0.4211 -0.57416 -0.19964 0.51312 0.090747 -0.21657 0.043519 0.24288 0.081134 0.49104 -0.33342 -0.31056 -0.3136 0.26931 -0.14402 0.33185 -0.21662 -0.072985 0.080603 -0.7266 -0.098385 -0.36233 -0.25346 0.1154 0.25738 0.15802 -0.15633 -0.024581 0.35673 0.31153 0.33475 -0.081155 -0.3061 0.019077 -0.049047 -0.11232 -0.07417 0.35596 -0.2642 0.012781 -0.20715 0.020223 0.054534 -0.28803 0.42863 -0.10312 0.24771 0.013196 0.19768 -0.013528 -0.15134 0.20307 -0.028973 -0.022706 -0.29199 -0.082062 0.19048 0.0053574 0.14067 -0.28675 0.21343 0.42428 -0.28186 -0.11801 -0.45227 -0.0067998 0.044784 -0.0062886 0.25087 0.34481 -0.64459 -0.20467 0.35007 0.1468 -0.14007 -0.0050219 -0.24053 0.41426 -0.40902 0.21141 0.25726 -0.4883 0.027066 0.56367 -0.39594 -0.035206 0.63079 0.14343 0.038315 0.32527 -0.080335 -0.20065 -0.30848 -0.0031591 0.15296 -0.21014 0.42143 -0.20944 -0.069285 0.13555 -0.020401 -0.22555 0.33491 0.16035 0.17739 -0.023627 0.097575 -0.19395 -0.018754 -0.119 -0.0067027 -0.4178 0.29027 0.13034 -0.30212 0.61173 -0.39918 -0.020191 -0.34531 -0.092082 0.46818 0.36671 0.21021 -0.053162 -0.37872 -0.14271 -0.13604 0.31715 -0.17227 -0.091266 0.16417 0.15069 0.53556 -0.29678 0.13965 -0.29788 0.1282 0.1971 -0.045515 -0.41355 -0.050333 -0.39015 -0.29579 -0.096145 -0.03151 0.053714 -0.37309 -0.36523 -0.17235 0.39251 -0.065909 -0.25267 -0.34448 -0.11503 0.43665 0.18832 0.20631 0.27801 -0.046077 0.13397 -0.091953 -0.098542 0.15811 0.2752 0.081383 0.32077 -0.10028 0.1088 -0.24836 0.10477 0.15243 -0.071302 0.12861 0.23061 0.0074864 0.090918 -0.12269 -0.14831 0.010586 0.35745 -0.23412 -0.23746 -0.22646 -0.27641 -0.1634 0.071909 -0.093884 0.21331 -0.20627 0.44406 0.34691 0.019064 0.034657 0.36789 0.32276 -0.31099 -0.023443 -0.77048 -0.26001 0.033961 -0.13874 0.051973 -0.0090509 0.27427 0.046548 -0.48214 -0.1437 -0.1975 -0.038126 -0.16555 0.071697 0.049449 0.15386 -0.81663'"
   ]
  },
  {
   "cell_type": "code",
   "execution_count": 50,
   "metadata": {},
   "outputs": [],
   "source": [
    "from model_parse_glove import *\n",
    "from data_reader_general import *\n",
    "from parse_path import dependency_path, constituency_path\n",
    "from configs.config_parse import config\n",
    "import pickle\n",
    "from Layer import GloveMaskCat\n",
    "import numpy as np\n",
    "import codecs\n",
    "import copy\n",
    "import os, sys"
   ]
  },
  {
   "cell_type": "code",
   "execution_count": 51,
   "metadata": {},
   "outputs": [
    {
     "name": "stdout",
     "output_type": "stream",
     "text": [
      "Training Samples: 3001\n",
      "Validating Samples: 601\n",
      "Testing Samples: 1120\n"
     ]
    }
   ],
   "source": [
    "    dr = data_reader(config)\n",
    "    train_data = dr.load_data(config.train_path)\n",
    "    valid_data = dr.load_data(config.valid_path)\n",
    "    test_data = dr.load_data(config.data_path+'Restaurants_Test_Gold.xml.pkl')\n",
    "    print('Training Samples:', len(train_data))\n",
    "    print('Validating Samples:', len(valid_data))\n",
    "    print('Testing Samples:', len(test_data))\n",
    "\n",
    "    dg_train = data_generator(config, train_data)\n",
    "    dg_valid =data_generator(config, valid_data, False)\n",
    "    dg_test =data_generator(config, test_data, False)"
   ]
  },
  {
   "cell_type": "code",
   "execution_count": 53,
   "metadata": {},
   "outputs": [
    {
     "name": "stdout",
     "output_type": "stream",
     "text": [
      "[['I', 'had', 'Lobster', 'Bisque', 'it', 'has', '2', 'oz', '.', 'of', 'Maine', 'Lobster', 'in', 'it', '.'], [0, 0, 0, 0, 0, 0, 0, 0, 0, 0, 1, 1, 0, 0, 0], 0, [10, 32, 976, 2048, 16, 61, 169, 1345, 1, 12, 4022, 976, 14, 16, 1], 'I had Lobster Bisque it has 2 oz. of Maine Lobster in it.']\n",
      "[['I', 'had', 'Lobster', 'Bisque', 'it', 'has', '2', 'oz', '.', 'of', 'Maine', 'Lobster', 'in', 'it', '.'], [0, 0, 1, 1, 0, 0, 0, 0, 0, 0, 0, 0, 0, 0, 0], 0, [10, 32, 976, 2048, 16, 61, 169, 1345, 1, 12, 4022, 976, 14, 16, 1], 'I had Lobster Bisque it has 2 oz. of Maine Lobster in it.']\n",
      "[['My', 'boyfriend', 'had', 'the', 'New', 'England', 'Chowder', 'it', 'was', 'good', 'but', 'I', 'think', 'the', 'award', 'should', 'go', 'to', 'the', 'Lobster', 'Bisque', '.'], [0, 0, 0, 0, 1, 1, 1, 0, 0, 0, 0, 0, 0, 0, 0, 0, 0, 0, 0, 0, 0, 0], 0, [122, 706, 32, 2, 255, 3439, 3440, 16, 8, 21, 18, 10, 405, 2, 3441, 385, 62, 7, 2, 976, 2048, 1], 'My boyfriend had the New England Chowder it was good but I think the award should go to the Lobster Bisque.']\n"
     ]
    }
   ],
   "source": [
    "for item in train_data:\n",
    "    if 'Lobster Bisque' in item[4]:\n",
    "        print(item)"
   ]
  },
  {
   "cell_type": "code",
   "execution_count": 65,
   "metadata": {},
   "outputs": [
    {
     "data": {
      "text/plain": [
       "['I', 'had', 'Lobster', 'Bisque', 'it', 'has', '2', 'Oz', '.']"
      ]
     },
     "execution_count": 65,
     "metadata": {},
     "output_type": "execute_result"
    }
   ],
   "source": [
    "cp = constituency_path()\n",
    "text = 'I had Lobster Bisque it has 2 Oz. of Maine Lobster in it.'\n",
    "cp.build_parser(text).leaves()\n",
    "#cp.proceed(text, [10, 11])"
   ]
  },
  {
   "cell_type": "code",
   "execution_count": 62,
   "metadata": {
    "collapsed": true
   },
   "outputs": [],
   "source": [
    "def convert_mask_index(masks):\n",
    "    '''\n",
    "    Find the indice of none zeros values in masks, namely the target indice\n",
    "    '''\n",
    "    target_indice = []\n",
    "    for mask in masks:\n",
    "        indice = torch.nonzero(mask == 1).squeeze(1).numpy()\n",
    "        target_indice.append(indice)\n",
    "    return target_indice"
   ]
  },
  {
   "cell_type": "code",
   "execution_count": 15,
   "metadata": {},
   "outputs": [
    {
     "data": {
      "text/plain": [
       "NodeView(('owner-1', 'same-0', 'as-2', ',-8', 'is-10', '.-21', 'guy-4', 'the-3', 'owns-6', 'who-5', 'typhoon-7', 'which-9', 'down-12', 'just-11', 'street-14', 'the-13', 'on-15', 'marks-17', 'st.-16', 'and-18', 'ave-20', '1st-19', 'food-23', 'the-22', 'looks-24', 'good-25', '!-26'))"
      ]
     },
     "execution_count": 15,
     "metadata": {},
     "output_type": "execute_result"
    }
   ],
   "source": [
    "import networkx as nx\n",
    "text = \"same owner as the guy who owns typhoon , which is just down the street on St. marks and 1st ave . The food looks good!\"\n",
    "document = nlp(text.replace(\" '\", \"'\"))\n",
    "edges = []\n",
    "for token in document:\n",
    "    # FYI https://spacy.io/docs/api/token\n",
    "    for child in token.children:\n",
    "        edges.append(('{0}-{1}'.format(token.lower_,token.i),\n",
    "                    '{0}-{1}'.format(child.lower_,child.i)))\n",
    "\n",
    "graph = nx.Graph(edges)\n",
    "graph.nodes()"
   ]
  },
  {
   "cell_type": "code",
   "execution_count": 16,
   "metadata": {},
   "outputs": [
    {
     "data": {
      "text/plain": [
       "<networkx.classes.graph.Graph at 0x1a5bb7ef98>"
      ]
     },
     "execution_count": 16,
     "metadata": {},
     "output_type": "execute_result"
    }
   ],
   "source": [
    "graph"
   ]
  },
  {
   "cell_type": "code",
   "execution_count": 60,
   "metadata": {
    "collapsed": true
   },
   "outputs": [],
   "source": [
    "from stanfordcorenlp import StanfordCoreNLP\n",
    "nlp = StanfordCoreNLP(r'../data/stanford-corenlp-full-2018-02-27')"
   ]
  },
  {
   "cell_type": "code",
   "execution_count": 75,
   "metadata": {
    "scrolled": true
   },
   "outputs": [],
   "source": [
    "def clean_str(text):\n",
    "    \"\"\"\n",
    "    Tokenization/string cleaning for all datasets except for SST.\n",
    "    Original taken from https://github.com/yoonkim/CNN_sentence/blob/master/process_data.py\n",
    "    \"\"\"\n",
    "    string = re.sub(r\"[^A-Za-z0-9(),!?\\'\\`]\", \" \", text)\n",
    "    string = re.sub(r\"\\'s\", \" \\'s\", string)\n",
    "    string = re.sub(r\"\\'ve\", \" \\'ve\", string)\n",
    "    string = re.sub(r\"n\\'t\", \" n\\'t\", string)\n",
    "    string = re.sub(r\"\\'re\", \" \\'re\", string)\n",
    "    string = re.sub(r\"\\'d\", \" \\'d\", string)\n",
    "    string = re.sub(r\"\\'ll\", \" \\'ll\", string)\n",
    "    string = re.sub(r\",\", \" , \", string)\n",
    "    string = re.sub(r\"!\", \" ! \", string)\n",
    "    string = re.sub(r\"\\(\", \" \\( \", string)\n",
    "    string = re.sub(r\"\\)\", \" \\) \", string)\n",
    "    string = re.sub(r\"\\?\", \" \\? \", string)\n",
    "    string = re.sub(r\"\\s{2,}\", \" \", string)\n",
    "    return string.strip()"
   ]
  },
  {
   "cell_type": "code",
   "execution_count": 76,
   "metadata": {},
   "outputs": [
    {
     "data": {
      "text/plain": [
       "'I had Lobster Bisque it has 2 Oz of Maine Lobster in it'"
      ]
     },
     "execution_count": 76,
     "metadata": {},
     "output_type": "execute_result"
    }
   ],
   "source": [
    "clean_str(text)"
   ]
  },
  {
   "cell_type": "code",
   "execution_count": 85,
   "metadata": {},
   "outputs": [
    {
     "data": {
      "text/plain": [
       "['the', 'apple', 'looks', 'good', 'but', 'the', 'oranges', 'are', 'bad']"
      ]
     },
     "execution_count": 85,
     "metadata": {},
     "output_type": "execute_result"
    }
   ],
   "source": [
    "text = \"the apple looks good but the oranges are bad\"\n",
    "text = clean_str(text)\n",
    "words = nlp.word_tokenize(text)\n",
    "words"
   ]
  },
  {
   "cell_type": "code",
   "execution_count": 86,
   "metadata": {},
   "outputs": [],
   "source": [
    "from nltk.tree import Tree\n",
    "document = nlp.parse(text)\n",
    "parsed_sent = Tree.fromstring(document)"
   ]
  },
  {
   "cell_type": "code",
   "execution_count": 87,
   "metadata": {},
   "outputs": [
    {
     "data": {
      "image/png": "[encoded data removed]",
      "text/plain": [
       "Tree('ROOT', [Tree('S', [Tree('NP', [Tree('DT', ['the']), Tree('NN', ['apple'])]), Tree('VP', [Tree('VBZ', ['looks']), Tree('ADJP', [Tree('JJ', ['good'])]), Tree('SBAR', [Tree('CC', ['but']), Tree('S', [Tree('NP', [Tree('DT', ['the']), Tree('NNS', ['oranges'])]), Tree('VP', [Tree('VBP', ['are']), Tree('ADJP', [Tree('JJ', ['bad'])])])])])])])])"
      ]
     },
     "execution_count": 87,
     "metadata": {},
     "output_type": "execute_result"
    }
   ],
   "source": [
    "parsed_sent"
   ]
  },
  {
   "cell_type": "code",
   "execution_count": 42,
   "metadata": {},
   "outputs": [
    {
     "data": {
      "text/plain": [
       "['i',\n",
       " 'love',\n",
       " 'dogs',\n",
       " ',',\n",
       " 'but',\n",
       " 'I',\n",
       " 'do',\n",
       " \"n't\",\n",
       " 'like',\n",
       " 'cats',\n",
       " ',',\n",
       " 'He',\n",
       " 'does',\n",
       " \"n't\",\n",
       " 'like',\n",
       " 'cats',\n",
       " 'either',\n",
       " '.']"
      ]
     },
     "execution_count": 42,
     "metadata": {},
     "output_type": "execute_result"
    }
   ],
   "source": [
    "parsed_sent.leaves()"
   ]
  },
  {
   "cell_type": "code",
   "execution_count": 17,
   "metadata": {},
   "outputs": [],
   "source": [
    "file = 'data/tweets/train.raw.txt'\n",
    "with open(file) as f:\n",
    "    tweets = f.readlines()"
   ]
  },
  {
   "cell_type": "code",
   "execution_count": 20,
   "metadata": {},
   "outputs": [
    {
     "data": {
      "text/plain": [
       "'-1\\n'"
      ]
     },
     "execution_count": 20,
     "metadata": {},
     "output_type": "execute_result"
    }
   ],
   "source": [
    "tweets[2]"
   ]
  },
  {
   "cell_type": "code",
   "execution_count": 22,
   "metadata": {},
   "outputs": [
    {
     "data": {
      "text/plain": [
       "18744"
      ]
     },
     "execution_count": 22,
     "metadata": {},
     "output_type": "execute_result"
    }
   ],
   "source": [
    "len(tweets)"
   ]
  },
  {
   "cell_type": "code",
   "execution_count": 2,
   "metadata": {},
   "outputs": [],
   "source": [
    "import numpy as np\n",
    "file = '../data/sswe-u.txt'\n",
    "word_emb = {}\n",
    "with open(file) as fi:\n",
    "    for line in fi:\n",
    "        items = line.split()\n",
    "        word_emb[items[0]] = np.array(items[1:], dtype=np.float32)"
   ]
  },
  {
   "cell_type": "code",
   "execution_count": 5,
   "metadata": {},
   "outputs": [],
   "source": [
    "words = list(word_emb.keys())"
   ]
  },
  {
   "cell_type": "code",
   "execution_count": 33,
   "metadata": {},
   "outputs": [
    {
     "name": "stderr",
     "output_type": "stream",
     "text": [
      "/home/nlp/anaconda3/envs/allennlp/lib/python3.6/site-packages/ipykernel_launcher.py:4: UserWarning: torch.range is deprecated in favor of torch.arange and will be removed in 0.5. Note that arange generates values in [start; end), not [start; end].\n",
      "  after removing the cwd from sys.path.\n"
     ]
    },
    {
     "data": {
      "text/plain": [
       "tensor([ 0.,  1.,  2.,  3.,  4.,  5.,  6.,  7.,  8.,  9., 10.])"
      ]
     },
     "execution_count": 33,
     "metadata": {},
     "output_type": "execute_result"
    }
   ],
   "source": [
    "from torch import nn\n",
    "import torch\n",
    "rnn = nn.GRU(32,20)\n",
    "torch.range(0, 10)"
   ]
  },
  {
   "cell_type": "code",
   "execution_count": 37,
   "metadata": {},
   "outputs": [],
   "source": [
    "sent_vec = torch.randn(5, 10, 32)\n",
    "batch_size, max_len, _ = sent_vec.size()\n",
    "pos = torch.arange(0, max_len)\n",
    "pos = pos.expand(batch_size, max_len)\n",
    "#pos_vec = self.position_enc(pos)"
   ]
  },
  {
   "cell_type": "code",
   "execution_count": 39,
   "metadata": {},
   "outputs": [
    {
     "data": {
      "text/plain": [
       "tensor([0, 1, 2, 3, 4, 5, 6, 7, 8, 9])"
      ]
     },
     "execution_count": 39,
     "metadata": {},
     "output_type": "execute_result"
    }
   ],
   "source": [
    "pos = torch.arange(0, max_len)\n",
    "pos"
   ]
  },
  {
   "cell_type": "code",
   "execution_count": 3,
   "metadata": {},
   "outputs": [],
   "source": [
    "from data_reader_general import *\n",
    "from backup.configs.config_crf_glove import config"
   ]
  },
  {
   "cell_type": "code",
   "execution_count": 211,
   "metadata": {},
   "outputs": [
    {
     "name": "stdout",
     "output_type": "stream",
     "text": [
      "Training Samples: 5104\n",
      "Validating Samples: 803\n",
      "Testing Samples: 1033\n"
     ]
    }
   ],
   "source": [
    "args = config\n",
    "dr = data_reader(args)\n",
    "train_data = dr.load_data('data/tweets_mask_target/new_train.pkl')\n",
    "valid_data = dr.load_data('data/tweets_mask_target/new_dev.pkl')\n",
    "test_data = dr.load_data('data/tweets_mask_target/new_test.pkl')\n",
    "print(\"Training Samples: {}\".format(len(train_data)))\n",
    "print(\"Validating Samples: {}\".format(len(valid_data)))\n",
    "print(\"Testing Samples: {}\".format(len(test_data)))"
   ]
  },
  {
   "cell_type": "code",
   "execution_count": 212,
   "metadata": {},
   "outputs": [
    {
     "name": "stdout",
     "output_type": "stream",
     "text": [
      "Training Samples: 5104\n",
      "Validating Samples: 803\n",
      "Testing Samples: 1033\n"
     ]
    }
   ],
   "source": [
    "args = config\n",
    "dr = data_reader(args)\n",
    "train_data1 = dr.load_data('data/tweets/new_train.pkl')\n",
    "valid_data1 = dr.load_data('data/tweets/new_dev.pkl')\n",
    "test_data1 = dr.load_data('data/tweets/new_test.pkl')\n",
    "print(\"Training Samples: {}\".format(len(train_data)))\n",
    "print(\"Validating Samples: {}\".format(len(valid_data)))\n",
    "print(\"Testing Samples: {}\".format(len(test_data)))"
   ]
  },
  {
   "cell_type": "code",
   "execution_count": 221,
   "metadata": {},
   "outputs": [
    {
     "data": {
      "text/plain": [
       "'check out our review of the lovely britney spears concert a couple of weeks ago a true diva through through'"
      ]
     },
     "execution_count": 221,
     "metadata": {},
     "output_type": "execute_result"
    }
   ],
   "source": [
    "train_data1"
   ]
  },
  {
   "cell_type": "code",
   "execution_count": 220,
   "metadata": {},
   "outputs": [
    {
     "data": {
      "text/plain": [
       "'little wayne & TTTTT now thats hot ! young muuuuullllaaaaa bbaaaabbbaaaayyyy ha love it'"
      ]
     },
     "execution_count": 220,
     "metadata": {},
     "output_type": "execute_result"
    }
   ],
   "source": [
    "train_data[3][4]"
   ]
  },
  {
   "cell_type": "code",
   "execution_count": 232,
   "metadata": {},
   "outputs": [],
   "source": [
    "train_targets1 = [' '.join(item[5]) for item in train_data1]\n",
    "dev_targets1 = [' '.join(item[5]) for item in valid_data1]\n",
    "test_targets1 = [' '.join(item[5]) for item in test_data1]"
   ]
  },
  {
   "cell_type": "code",
   "execution_count": 233,
   "metadata": {},
   "outputs": [],
   "source": [
    "train_targets = [item[5] for item in train_data]\n",
    "dev_targets = [item[5] for item in valid_data]\n",
    "test_targets = [item[5] for item in test_data]"
   ]
  },
  {
   "cell_type": "code",
   "execution_count": 236,
   "metadata": {},
   "outputs": [],
   "source": [
    "train_targets_set = set(train_targets)\n",
    "test_targets_set = set(test_targets)\n",
    "dev_targets_set = set(dev_targets)\n",
    "overlapping = train_targets_set.intersection(test_targets_set)"
   ]
  },
  {
   "cell_type": "code",
   "execution_count": 238,
   "metadata": {},
   "outputs": [],
   "source": [
    "train_targets_set1 = set(train_targets1)\n",
    "test_targets_set1 = set(test_targets1)\n",
    "dev_targets_set1 = set(dev_targets1)\n",
    "overlapping = train_targets_set.intersection(test_targets_set1)"
   ]
  },
  {
   "cell_type": "code",
   "execution_count": 192,
   "metadata": {},
   "outputs": [],
   "source": [
    "all_targets_2 = train_targets_set.union(test_targets_set).union(dev_targets_set)"
   ]
  },
  {
   "cell_type": "code",
   "execution_count": 243,
   "metadata": {},
   "outputs": [
    {
     "data": {
      "text/plain": [
       "{'a rod',\n",
       " 'al anon mtg',\n",
       " 'al gore',\n",
       " 'albert pujols',\n",
       " 'alex rodriguez',\n",
       " 'alicia keys',\n",
       " 'anderson cooper',\n",
       " 'arnold schwarzenegger',\n",
       " 'arod',\n",
       " 'ashley tisdale',\n",
       " 'ashton kutcher',\n",
       " 'barack',\n",
       " 'barack obama',\n",
       " 'biden',\n",
       " 'bieber',\n",
       " 'bill gates',\n",
       " 'britney',\n",
       " 'britney sears',\n",
       " 'britney spears',\n",
       " 'britneyspears',\n",
       " 'canon powershot',\n",
       " 'charlie sheen',\n",
       " 'chelsea handler',\n",
       " \"conan o'brien\",\n",
       " 'dave matthews',\n",
       " 'demi lovato',\n",
       " 'donald trump',\n",
       " 'elizabeth taylor',\n",
       " 'ellen degeneres',\n",
       " 'gaga',\n",
       " 'george bush',\n",
       " 'google',\n",
       " 'google wave',\n",
       " 'harry potter',\n",
       " 'hilary swank',\n",
       " 'hillary',\n",
       " 'hillary clinton',\n",
       " 'ipad',\n",
       " 'iphone',\n",
       " 'ipod',\n",
       " 'j lo',\n",
       " 'jimmy carter',\n",
       " 'jimmy fallon',\n",
       " 'joe biden',\n",
       " 'john boehner',\n",
       " 'john legend',\n",
       " 'john mayer',\n",
       " 'john mccain',\n",
       " 'johnmayer',\n",
       " 'jt',\n",
       " 'justin',\n",
       " 'justin bieber',\n",
       " 'justin drew bieber',\n",
       " 'justin timberlake',\n",
       " 'katy perry',\n",
       " 'kevin spacey',\n",
       " 'khloe kardashian',\n",
       " 'kim kardashian',\n",
       " 'kindle',\n",
       " 'kourtney kardashian',\n",
       " 'lady gaga',\n",
       " 'lakers',\n",
       " 'lance armstrong',\n",
       " 'larry king',\n",
       " 'lenny kravitz',\n",
       " 'lindsay lohan',\n",
       " 'madonna',\n",
       " 'mandy moore',\n",
       " 'maradona',\n",
       " 'mariah carey',\n",
       " 'martha stewart',\n",
       " 'mc hammer',\n",
       " 'micheal jackson',\n",
       " 'miley',\n",
       " 'miley cyrus',\n",
       " 'miley ray cyrus',\n",
       " 'mindflex game',\n",
       " 'ms dhoni',\n",
       " 'nick cannon',\n",
       " 'nick jonas',\n",
       " 'nicki minaj',\n",
       " 'nicolas cage',\n",
       " 'o',\n",
       " 'obama',\n",
       " 'oprah',\n",
       " 'oprah winfrey',\n",
       " 'paris hilton',\n",
       " 'perez hilton',\n",
       " 'pete wentz',\n",
       " 'psp',\n",
       " 'rev run',\n",
       " 'russell brand',\n",
       " 'ryan seacrest',\n",
       " 'sara bareilles',\n",
       " 'sarah palin',\n",
       " 'selena gomez',\n",
       " 'serena williams',\n",
       " 'shakira',\n",
       " 'shaq',\n",
       " \"shaquille o'neal\",\n",
       " 'snoop dog',\n",
       " 'snoop dogg',\n",
       " 'snoopdogg',\n",
       " 'soulja boy',\n",
       " 'souljaboy',\n",
       " 'stephen colbert',\n",
       " 'stephen fry',\n",
       " 'steve jobs',\n",
       " 'taylor swift',\n",
       " 'taylorswift',\n",
       " 'tiger woods',\n",
       " 'tim bresnan',\n",
       " 'tony hawk',\n",
       " 'weird al',\n",
       " 'weird al yankovic',\n",
       " 'wii',\n",
       " 'windows 7',\n",
       " 'xbox'}"
      ]
     },
     "execution_count": 243,
     "metadata": {},
     "output_type": "execute_result"
    }
   ],
   "source": [
    "all_targets"
   ]
  },
  {
   "cell_type": "code",
   "execution_count": 194,
   "metadata": {},
   "outputs": [],
   "source": [
    "all_data = []\n",
    "all_data.extend(train_data)\n",
    "all_data.extend(valid_data)\n",
    "all_data.extend(test_data)"
   ]
  },
  {
   "cell_type": "code",
   "execution_count": 195,
   "metadata": {},
   "outputs": [
    {
     "data": {
      "text/plain": [
       "'obama'"
      ]
     },
     "execution_count": 195,
     "metadata": {},
     "output_type": "execute_result"
    }
   ],
   "source": [
    "all_data[1][5]"
   ]
  },
  {
   "cell_type": "code",
   "execution_count": 196,
   "metadata": {},
   "outputs": [],
   "source": [
    "tgt_samples = {}\n",
    "for tgt in all_targets:\n",
    "    samples = []\n",
    "    for item in all_data:\n",
    "        if item[5] == tgt:\n",
    "            samples.append(item) \n",
    "    tgt_samples[tgt] = samples"
   ]
  },
  {
   "cell_type": "code",
   "execution_count": 198,
   "metadata": {},
   "outputs": [],
   "source": [
    "#tgt_samples"
   ]
  },
  {
   "cell_type": "code",
   "execution_count": 141,
   "metadata": {},
   "outputs": [],
   "source": [
    "tgt_num = [(k, len(v)) for k,v in tgt_samples.items()]"
   ]
  },
  {
   "cell_type": "code",
   "execution_count": 257,
   "metadata": {},
   "outputs": [
    {
     "data": {
      "text/plain": [
       "[('weird al', 5),\n",
       " ('lindsay lohan', 444),\n",
       " ('nicki minaj', 48),\n",
       " ('shakira', 21),\n",
       " ('hillary', 5),\n",
       " (\"conan o'brien\", 2),\n",
       " ('sara bareilles', 1),\n",
       " ('lady gaga', 205),\n",
       " ('al anon mtg', 1),\n",
       " ('martha stewart', 27),\n",
       " ('joe biden', 21),\n",
       " ('john legend', 23),\n",
       " ('ipod', 205),\n",
       " ('ryan seacrest', 12),\n",
       " ('miley ray cyrus', 1),\n",
       " ('anderson cooper', 17),\n",
       " ('taylorswift', 4),\n",
       " ('mandy moore', 19),\n",
       " ('hilary swank', 76),\n",
       " ('justin', 2),\n",
       " ('google wave', 152),\n",
       " ('kindle', 165),\n",
       " ('iphone', 186),\n",
       " ('hillary clinton', 76),\n",
       " ('lenny kravitz', 1),\n",
       " ('arnold schwarzenegger', 15),\n",
       " ('nicolas cage', 87),\n",
       " ('serena williams', 11),\n",
       " ('jt', 4),\n",
       " ('britney spears', 1020),\n",
       " ('russell brand', 21),\n",
       " ('wii', 214),\n",
       " ('biden', 4),\n",
       " ('larry king', 1),\n",
       " ('barack', 2),\n",
       " ('albert pujols', 1),\n",
       " ('britney sears', 1),\n",
       " ('gaga', 14),\n",
       " ('barack obama', 245),\n",
       " ('chelsea handler', 2),\n",
       " ('elizabeth taylor', 1),\n",
       " ('perez hilton', 16),\n",
       " ('mindflex game', 1),\n",
       " ('oprah', 15),\n",
       " ('al gore', 32),\n",
       " ('paris hilton', 28),\n",
       " ('a rod', 1),\n",
       " ('ellen degeneres', 19),\n",
       " ('steve jobs', 110),\n",
       " ('justin timberlake', 31),\n",
       " ('windows 7', 195),\n",
       " ('john boehner', 32),\n",
       " ('souljaboy', 6),\n",
       " ('o', 1),\n",
       " ('nick jonas', 23),\n",
       " ('george bush', 71),\n",
       " ('jimmy carter', 112),\n",
       " ('bill gates', 57),\n",
       " ('oprah winfrey', 8),\n",
       " ('miley cyrus', 41),\n",
       " ('snoop dogg', 17),\n",
       " ('weird al yankovic', 4),\n",
       " ('jimmy fallon', 37),\n",
       " ('soulja boy', 11),\n",
       " ('britney', 19),\n",
       " ('shaq', 5),\n",
       " ('madonna', 252),\n",
       " ('snoop dog', 1),\n",
       " ('nick cannon', 17),\n",
       " ('miley', 2),\n",
       " ('kim kardashian', 48),\n",
       " ('john mayer', 17),\n",
       " ('britneyspears', 1),\n",
       " ('sarah palin', 210),\n",
       " ('obama', 133),\n",
       " ('dave matthews', 9),\n",
       " ('john mccain', 30),\n",
       " ('mariah carey', 17),\n",
       " ('xbox', 175),\n",
       " ('kevin spacey', 1),\n",
       " ('justin bieber', 155),\n",
       " ('ashton kutcher', 29),\n",
       " ('lakers', 180),\n",
       " ('selena gomez', 51),\n",
       " ('ms dhoni', 4),\n",
       " ('mc hammer', 14),\n",
       " ('tiger woods', 86),\n",
       " ('arod', 1),\n",
       " (\"shaquille o'neal\", 3),\n",
       " ('stephen colbert', 4),\n",
       " ('micheal jackson', 98),\n",
       " ('johnmayer', 2),\n",
       " ('stephen fry', 1),\n",
       " ('harry potter', 360),\n",
       " ('tim bresnan', 2),\n",
       " ('alicia keys', 29),\n",
       " ('alex rodriguez', 10),\n",
       " ('donald trump', 1),\n",
       " ('pete wentz', 1),\n",
       " ('j lo', 1),\n",
       " ('tony hawk', 1),\n",
       " ('google', 130),\n",
       " ('justin drew bieber', 2),\n",
       " ('lance armstrong', 1),\n",
       " ('psp', 149),\n",
       " ('canon powershot', 5),\n",
       " ('demi lovato', 38),\n",
       " ('bieber', 2),\n",
       " ('charlie sheen', 96),\n",
       " ('kourtney kardashian', 1),\n",
       " ('maradona', 43),\n",
       " ('taylor swift', 50),\n",
       " ('katy perry', 45),\n",
       " ('rev run', 1),\n",
       " ('ipad', 135),\n",
       " ('ashley tisdale', 15),\n",
       " ('khloe kardashian', 24),\n",
       " ('snoopdogg', 3)]"
      ]
     },
     "execution_count": 257,
     "metadata": {},
     "output_type": "execute_result"
    }
   ],
   "source": [
    "tgt_num"
   ]
  },
  {
   "cell_type": "code",
   "execution_count": 144,
   "metadata": {},
   "outputs": [],
   "source": [
    "tgt_train = []\n",
    "tgt_dev = []\n",
    "tgt_test = []\n",
    "count = 0\n",
    "for tn in tgt_num:\n",
    "    count += tn[1]\n",
    "    if count < 1000:\n",
    "        tgt_dev.append(tn[0])\n",
    "    elif count<2000:\n",
    "        tgt_test.append(tn[0])\n",
    "    else:\n",
    "        tgt_train.append(tn[0])"
   ]
  },
  {
   "cell_type": "code",
   "execution_count": 245,
   "metadata": {},
   "outputs": [],
   "source": [
    "with open('data/tweets/new-train-target.txt', 'w') as f:\n",
    "    for tgt in tgt_train:\n",
    "        f.write(tgt+'\\n')"
   ]
  },
  {
   "cell_type": "code",
   "execution_count": 246,
   "metadata": {},
   "outputs": [],
   "source": [
    "with open('data/tweets/new-dev-target.txt', 'w') as f:\n",
    "    for tgt in tgt_dev:\n",
    "        f.write(tgt+'\\n')"
   ]
  },
  {
   "cell_type": "code",
   "execution_count": 247,
   "metadata": {},
   "outputs": [],
   "source": [
    "with open('data/tweets/new-test-target.txt', 'w') as f:\n",
    "    for tgt in tgt_test:\n",
    "        f.write(tgt+'\\n')"
   ]
  },
  {
   "cell_type": "code",
   "execution_count": 201,
   "metadata": {},
   "outputs": [],
   "source": [
    "new_train_data = []\n",
    "new_dev_data = []\n",
    "new_test_data = []\n",
    "for tgt in all_targets:\n",
    "    if tgt in tgt_train:\n",
    "        new_train_data.extend(tgt_samples[tgt])\n",
    "    if tgt in tgt_dev:\n",
    "        new_dev_data.extend(tgt_samples[tgt])\n",
    "    if tgt in tgt_test:\n",
    "        new_test_data.extend(tgt_samples[tgt])"
   ]
  },
  {
   "cell_type": "code",
   "execution_count": 204,
   "metadata": {},
   "outputs": [],
   "source": [
    "import pickle\n",
    "with open('data/tweets_mask_target/new_train.pkl', 'wb') as f:\n",
    "    pickle.dump(new_train_data, f)\n",
    "with open('data/tweets_mask_target/new_dev.pkl', 'wb') as f:\n",
    "    pickle.dump(new_dev_data, f)\n",
    "with open('data/tweets_mask_target/new_test.pkl', 'wb') as f:\n",
    "    pickle.dump(new_test_data, f)"
   ]
  },
  {
   "cell_type": "code",
   "execution_count": 151,
   "metadata": {},
   "outputs": [
    {
     "data": {
      "text/plain": [
       "5104"
      ]
     },
     "execution_count": 151,
     "metadata": {},
     "output_type": "execute_result"
    }
   ],
   "source": [
    "len(new_train_data)"
   ]
  },
  {
   "cell_type": "code",
   "execution_count": 152,
   "metadata": {},
   "outputs": [
    {
     "data": {
      "text/plain": [
       "803"
      ]
     },
     "execution_count": 152,
     "metadata": {},
     "output_type": "execute_result"
    }
   ],
   "source": [
    "len(new_dev_data)"
   ]
  },
  {
   "cell_type": "code",
   "execution_count": 153,
   "metadata": {},
   "outputs": [
    {
     "data": {
      "text/plain": [
       "1033"
      ]
     },
     "execution_count": 153,
     "metadata": {},
     "output_type": "execute_result"
    }
   ],
   "source": [
    "len(new_test_data)"
   ]
  },
  {
   "cell_type": "code",
   "execution_count": null,
   "metadata": {},
   "outputs": [],
   "source": []
  },
  {
   "cell_type": "code",
   "execution_count": null,
   "metadata": {},
   "outputs": [],
   "source": []
  },
  {
   "cell_type": "code",
   "execution_count": null,
   "metadata": {},
   "outputs": [],
   "source": []
  },
  {
   "cell_type": "code",
   "execution_count": 18,
   "metadata": {},
   "outputs": [],
   "source": [
    "test_data1 = []\n",
    "test_data2 = []\n",
    "for i, tgt in enumerate(test_targets):\n",
    "    if tgt in overlapping:\n",
    "        test_data1.append(test_data[i])\n",
    "    else:\n",
    "        test_data2.append(test_data[i])"
   ]
  },
  {
   "cell_type": "code",
   "execution_count": 19,
   "metadata": {},
   "outputs": [
    {
     "data": {
      "text/plain": [
       "686"
      ]
     },
     "execution_count": 19,
     "metadata": {},
     "output_type": "execute_result"
    }
   ],
   "source": [
    "len(test_data1)"
   ]
  },
  {
   "cell_type": "code",
   "execution_count": 20,
   "metadata": {},
   "outputs": [
    {
     "data": {
      "text/plain": [
       "6"
      ]
     },
     "execution_count": 20,
     "metadata": {},
     "output_type": "execute_result"
    }
   ],
   "source": [
    "len(test_data2)"
   ]
  },
  {
   "cell_type": "code",
   "execution_count": 23,
   "metadata": {},
   "outputs": [
    {
     "data": {
      "text/plain": [
       "112"
      ]
     },
     "execution_count": 23,
     "metadata": {},
     "output_type": "execute_result"
    }
   ],
   "source": [
    "len(train_targets_set)"
   ]
  },
  {
   "cell_type": "code",
   "execution_count": 24,
   "metadata": {},
   "outputs": [
    {
     "data": {
      "text/plain": [
       "77"
      ]
     },
     "execution_count": 24,
     "metadata": {},
     "output_type": "execute_result"
    }
   ],
   "source": [
    "len(dev_targets_set)"
   ]
  },
  {
   "cell_type": "code",
   "execution_count": 25,
   "metadata": {},
   "outputs": [
    {
     "data": {
      "text/plain": [
       "82"
      ]
     },
     "execution_count": 25,
     "metadata": {},
     "output_type": "execute_result"
    }
   ],
   "source": [
    "len(test_targets_set)"
   ]
  },
  {
   "cell_type": "code",
   "execution_count": 15,
   "metadata": {},
   "outputs": [
    {
     "data": {
      "text/plain": [
       "77"
      ]
     },
     "execution_count": 15,
     "metadata": {},
     "output_type": "execute_result"
    }
   ],
   "source": [
    "len(overlapping)"
   ]
  },
  {
   "cell_type": "code",
   "execution_count": 29,
   "metadata": {},
   "outputs": [],
   "source": [
    "target_label = {}\n",
    "for t in overlapping:\n",
    "    labels = []\n",
    "    for item in train_data:\n",
    "        if ' '.join(item[5]) == t:\n",
    "            labels.append(item[2])\n",
    "    target_label[t] = labels"
   ]
  },
  {
   "cell_type": "code",
   "execution_count": 32,
   "metadata": {},
   "outputs": [
    {
     "name": "stdout",
     "output_type": "stream",
     "text": [
      "############\n",
      "john boehner\n",
      "(array([0, 1, 2]), array([ 1,  3, 18]))\n",
      "############\n",
      "arnold schwarzenegger\n",
      "(array([0, 1, 2]), array([4, 4, 4]))\n",
      "############\n",
      "micheal jackson\n",
      "(array([0, 1, 2]), array([15, 32, 32]))\n",
      "############\n",
      "nicolas cage\n",
      "(array([0, 1, 2]), array([ 9, 37, 19]))\n",
      "############\n",
      "lindsay lohan\n",
      "(array([0, 1, 2]), array([ 37, 205,  91]))\n",
      "############\n",
      "nicki minaj\n",
      "(array([0, 1, 2]), array([ 9,  3, 21]))\n",
      "############\n",
      "serena williams\n",
      "(array([0, 2]), array([2, 5]))\n",
      "############\n",
      "johnmayer\n",
      "(array([2]), array([1]))\n",
      "############\n",
      "shakira\n",
      "(array([0, 1, 2]), array([6, 6, 7]))\n",
      "############\n",
      "george bush\n",
      "(array([0, 1, 2]), array([ 2, 19, 30]))\n",
      "############\n",
      "weird al\n",
      "(array([0, 1, 2]), array([1, 1, 2]))\n",
      "############\n",
      "nick jonas\n",
      "(array([0, 1, 2]), array([11,  2,  4]))\n",
      "############\n",
      "jimmy carter\n",
      "(array([0, 1, 2]), array([ 5, 61, 20]))\n",
      "############\n",
      "bill gates\n",
      "(array([0, 1, 2]), array([ 2, 38,  6]))\n",
      "############\n",
      "britney spears\n",
      "(array([0, 1, 2]), array([219, 375, 166]))\n",
      "############\n",
      "conan o'brien\n",
      "(array([0]), array([1]))\n",
      "############\n",
      "harry potter\n",
      "(array([0, 1, 2]), array([ 73, 153,  40]))\n",
      "############\n",
      "miley cyrus\n",
      "(array([0, 1, 2]), array([16,  3,  8]))\n",
      "############\n",
      "russell brand\n",
      "(array([0, 1, 2]), array([5, 3, 7]))\n",
      "############\n",
      "snoop dogg\n",
      "(array([0, 1, 2]), array([3, 6, 3]))\n",
      "############\n",
      "wii\n",
      "(array([0, 1, 2]), array([ 41, 102,  14]))\n",
      "############\n",
      "biden\n",
      "(array([2]), array([1]))\n",
      "############\n",
      "alicia keys\n",
      "(array([0, 1, 2]), array([ 3, 11,  7]))\n",
      "############\n",
      "lady gaga\n",
      "(array([0, 1, 2]), array([71, 45, 45]))\n",
      "############\n",
      "weird al yankovic\n",
      "(array([2]), array([3]))\n",
      "############\n",
      "jimmy fallon\n",
      "(array([0, 1, 2]), array([14,  5,  8]))\n",
      "############\n",
      "martha stewart\n",
      "(array([0, 1, 2]), array([ 3,  7, 10]))\n",
      "############\n",
      "britney\n",
      "(array([0, 1, 2]), array([7, 2, 4]))\n",
      "############\n",
      "joe biden\n",
      "(array([0, 1, 2]), array([3, 7, 8]))\n",
      "############\n",
      "madonna\n",
      "(array([0, 1, 2]), array([ 18, 150,  29]))\n",
      "############\n",
      "gaga\n",
      "(array([0, 2]), array([8, 3]))\n",
      "############\n",
      "barack obama\n",
      "(array([0, 1, 2]), array([ 24, 141,  27]))\n",
      "############\n",
      "john legend\n",
      "(array([0, 1, 2]), array([8, 4, 6]))\n",
      "############\n",
      "google\n",
      "(array([0, 1, 2]), array([37, 35, 20]))\n",
      "############\n",
      "nick cannon\n",
      "(array([0, 1, 2]), array([2, 3, 9]))\n",
      "############\n",
      "justin drew bieber\n",
      "(array([0]), array([1]))\n",
      "############\n",
      "ipod\n",
      "(array([0, 1, 2]), array([51, 95,  9]))\n",
      "############\n",
      "psp\n",
      "(array([0, 1, 2]), array([22, 77,  7]))\n",
      "############\n",
      "demi lovato\n",
      "(array([0, 1, 2]), array([14, 10,  4]))\n",
      "############\n",
      "tiger woods\n",
      "(array([0, 1, 2]), array([11, 51,  2]))\n",
      "############\n",
      "kim kardashian\n",
      "(array([0, 1, 2]), array([11,  4, 22]))\n",
      "############\n",
      "john mayer\n",
      "(array([0, 1, 2]), array([3, 3, 1]))\n",
      "############\n",
      "mandy moore\n",
      "(array([0, 1, 2]), array([5, 6, 3]))\n",
      "############\n",
      "hilary swank\n",
      "(array([0, 1, 2]), array([ 9, 43, 10]))\n",
      "############\n",
      "charlie sheen\n",
      "(array([0, 1, 2]), array([15, 17, 28]))\n",
      "############\n",
      "sarah palin\n",
      "(array([0, 1, 2]), array([ 11, 100,  45]))\n",
      "############\n",
      "perez hilton\n",
      "(array([0, 1, 2]), array([1, 6, 6]))\n",
      "############\n",
      "obama\n",
      "(array([0, 1, 2]), array([ 8, 25, 84]))\n",
      "############\n",
      "maradona\n",
      "(array([0, 1, 2]), array([ 1, 31,  4]))\n",
      "############\n",
      "dave matthews\n",
      "(array([0, 1, 2]), array([3, 1, 2]))\n",
      "############\n",
      "oprah\n",
      "(array([0, 1, 2]), array([5, 2, 4]))\n",
      "############\n",
      "al gore\n",
      "(array([0, 1, 2]), array([ 4,  6, 14]))\n",
      "############\n",
      "taylor swift\n",
      "(array([0, 1, 2]), array([20,  3, 10]))\n",
      "############\n",
      "john mccain\n",
      "(array([0, 1, 2]), array([ 2,  7, 14]))\n",
      "############\n",
      "paris hilton\n",
      "(array([1, 2]), array([ 1, 15]))\n",
      "############\n",
      "xbox\n",
      "(array([0, 1, 2]), array([23, 97, 15]))\n",
      "############\n",
      "google wave\n",
      "(array([0, 1, 2]), array([37, 69,  5]))\n",
      "############\n",
      "katy perry\n",
      "(array([0, 1, 2]), array([12,  6, 13]))\n",
      "############\n",
      "kindle\n",
      "(array([0, 1, 2]), array([41, 86, 11]))\n",
      "############\n",
      "ashton kutcher\n",
      "(array([0, 1, 2]), array([ 5,  6, 10]))\n",
      "############\n",
      "justin bieber\n",
      "(array([0, 1, 2]), array([73,  6, 35]))\n",
      "############\n",
      "mariah carey\n",
      "(array([0, 1, 2]), array([6, 2, 5]))\n",
      "############\n",
      "lakers\n",
      "(array([0, 1, 2]), array([25, 33, 69]))\n",
      "############\n",
      "ellen degeneres\n",
      "(array([0, 1, 2]), array([1, 6, 5]))\n",
      "############\n",
      "steve jobs\n",
      "(array([0, 1, 2]), array([ 4, 64, 15]))\n",
      "############\n",
      "selena gomez\n",
      "(array([0, 1, 2]), array([17,  7, 11]))\n",
      "############\n",
      "shaquille o'neal\n",
      "(array([1]), array([1]))\n",
      "############\n",
      "ipad\n",
      "(array([0, 1, 2]), array([29, 43, 25]))\n",
      "############\n",
      "ms dhoni\n",
      "(array([0]), array([3]))\n",
      "############\n",
      "justin timberlake\n",
      "(array([0, 1, 2]), array([12,  5,  5]))\n",
      "############\n",
      "khloe kardashian\n",
      "(array([0, 1, 2]), array([ 5,  2, 13]))\n",
      "############\n",
      "iphone\n",
      "(array([0, 1, 2]), array([31, 94, 20]))\n",
      "############\n",
      "ashley tisdale\n",
      "(array([0, 1, 2]), array([3, 4, 3]))\n",
      "############\n",
      "mc hammer\n",
      "(array([0, 2]), array([6, 6]))\n",
      "############\n",
      "windows 7\n",
      "(array([0, 1, 2]), array([51, 65, 21]))\n",
      "############\n",
      "hillary clinton\n",
      "(array([0, 1, 2]), array([ 3, 50, 10]))\n",
      "############\n",
      "stephen colbert\n",
      "(array([0, 2]), array([1, 2]))\n"
     ]
    }
   ],
   "source": [
    "for k, v in target_label.items():\n",
    "    print('############')\n",
    "    print(k)\n",
    "    print(np.unique(v, return_counts=True))"
   ]
  },
  {
   "cell_type": "code",
   "execution_count": 7,
   "metadata": {},
   "outputs": [],
   "source": [
    "labels1 = [item[2]  for item in train_data]\n",
    "labels2 = [item[2]  for item in valid_data]\n",
    "labels3 = [item[2]  for item in test_data]"
   ]
  },
  {
   "cell_type": "code",
   "execution_count": 10,
   "metadata": {},
   "outputs": [
    {
     "data": {
      "text/plain": [
       "(array([0, 1, 2]), array([173, 346, 173]))"
      ]
     },
     "execution_count": 10,
     "metadata": {},
     "output_type": "execute_result"
    }
   ],
   "source": [
    "np.unique(labels3, return_counts=True)"
   ]
  },
  {
   "cell_type": "code",
   "execution_count": 4,
   "metadata": {},
   "outputs": [
    {
     "name": "stdout",
     "output_type": "stream",
     "text": [
      "Training Samples: 5206\n",
      "Validating Samples: 1792\n",
      "Testing Samples: 1839\n"
     ]
    }
   ],
   "source": [
    "args = config\n",
    "dr = data_reader(args)\n",
    "train_data = dr.load_data('data/tweets/train.pkl')\n",
    "valid_data = dr.load_data('data/indo/dev.xml.pkl')\n",
    "test_data = dr.load_data('data/indo/test.xml.pkl')\n",
    "print(\"Training Samples: {}\".format(len(train_data)))\n",
    "print(\"Validating Samples: {}\".format(len(valid_data)))\n",
    "print(\"Testing Samples: {}\".format(len(test_data)))\n",
    "\n",
    "\n",
    "# dg_train = data_generator(args, train_data)\n",
    "# dg_valid = data_generator(args, valid_data, False)\n",
    "# dg_test = data_generator(args, test_data, False)"
   ]
  },
  {
   "cell_type": "code",
   "execution_count": 4,
   "metadata": {},
   "outputs": [],
   "source": [
    "data_all = []\n",
    "data_all.extend(train_data)\n",
    "data_all.extend(valid_data)\n",
    "data_all.extend(test_data)"
   ]
  },
  {
   "cell_type": "code",
   "execution_count": 5,
   "metadata": {},
   "outputs": [],
   "source": [
    "import numpy as np\n",
    "np.random.shuffle(data_all)"
   ]
  },
  {
   "cell_type": "code",
   "execution_count": 6,
   "metadata": {},
   "outputs": [],
   "source": [
    "new_dev = data_all[:1000]\n",
    "new_test = data_all[1000:2000]\n",
    "new_train = data_all[2000:]"
   ]
  },
  {
   "cell_type": "code",
   "execution_count": 7,
   "metadata": {},
   "outputs": [],
   "source": [
    "import pickle\n",
    "with open('data/indo/shuffled_train.pkl', 'wb') as f:\n",
    "    pickle.dump(new_train, f)"
   ]
  },
  {
   "cell_type": "code",
   "execution_count": 8,
   "metadata": {},
   "outputs": [],
   "source": [
    "with open('data/indo/shuffled_dev.pkl', 'wb') as f:\n",
    "    pickle.dump(new_dev, f)"
   ]
  },
  {
   "cell_type": "code",
   "execution_count": 9,
   "metadata": {},
   "outputs": [],
   "source": [
    "with open('data/indo/shuffled_test.pkl', 'wb') as f:\n",
    "    pickle.dump(new_test, f)"
   ]
  },
  {
   "cell_type": "code",
   "execution_count": 4,
   "metadata": {},
   "outputs": [],
   "source": [
    "labels = [item[2] for item in train_data]"
   ]
  },
  {
   "cell_type": "code",
   "execution_count": 5,
   "metadata": {},
   "outputs": [],
   "source": [
    "import numpy as np\n",
    "a, b =np.unique(labels, return_counts=True)"
   ]
  },
  {
   "cell_type": "code",
   "execution_count": 6,
   "metadata": {},
   "outputs": [
    {
     "data": {
      "text/plain": [
       "array([1310, 2602, 1294])"
      ]
     },
     "execution_count": 6,
     "metadata": {},
     "output_type": "execute_result"
    }
   ],
   "source": [
    "b"
   ]
  },
  {
   "cell_type": "code",
   "execution_count": 41,
   "metadata": {},
   "outputs": [
    {
     "data": {
      "text/plain": [
       "0.7133361921097771"
      ]
     },
     "execution_count": 41,
     "metadata": {},
     "output_type": "execute_result"
    }
   ],
   "source": [
    "3327/b.sum()"
   ]
  },
  {
   "cell_type": "code",
   "execution_count": 18,
   "metadata": {},
   "outputs": [],
   "source": [
    "import pickle\n",
    "with open('data/tweets/vocab/local_emb.pkl', 'rb') as f:\n",
    "    vocab = pickle.load(f)"
   ]
  },
  {
   "cell_type": "code",
   "execution_count": 241,
   "metadata": {},
   "outputs": [],
   "source": [
    "import numpy as np\n",
    "def load_pretrained_word_emb(file_path):\n",
    "    '''\n",
    "    Load a specified vocabulary\n",
    "    '''\n",
    "    word_emb = {}\n",
    "    vocab_words = set()\n",
    "    with open(file_path) as fi:\n",
    "        for line in fi:\n",
    "            items = line.split()\n",
    "            word = ' '.join(items[:-3*100])\n",
    "            vec = items[-3*100:]\n",
    "            word_emb[word] = np.array(vec, dtype=np.float32)\n",
    "            vocab_words.add(word)\n",
    "    return word_emb, vocab_words"
   ]
  },
  {
   "cell_type": "code",
   "execution_count": 242,
   "metadata": {},
   "outputs": [],
   "source": [
    "word_emb, vocab_words = load_pretrained_word_emb('../data/glove.840B.300d.txt')"
   ]
  },
  {
   "cell_type": "code",
   "execution_count": 249,
   "metadata": {},
   "outputs": [],
   "source": [
    "tgt_emb = []\n",
    "for tgt in all_targets:\n",
    "    w_e = np.zeros(300)\n",
    "    for w in tgt.split():\n",
    "        w_e += word_emb[w]\n",
    "    w_e = w_e/len(tgt.split())\n",
    "    tgt_emb.append(w_e)"
   ]
  },
  {
   "cell_type": "code",
   "execution_count": 252,
   "metadata": {},
   "outputs": [
    {
     "data": {
      "text/plain": [
       "(118, 300)"
      ]
     },
     "execution_count": 252,
     "metadata": {},
     "output_type": "execute_result"
    }
   ],
   "source": [
    "tgt_emb = np.vstack(tgt_emb)\n",
    "tgt_emb.shape"
   ]
  },
  {
   "cell_type": "code",
   "execution_count": 253,
   "metadata": {},
   "outputs": [],
   "source": [
    "from sklearn.manifold import TSNE\n",
    "tsne = TSNE(perplexity=30, n_components=2, init='pca', n_iter=5000)\n",
    "two_d_embeddings = tsne.fit_transform(tgt_emb)"
   ]
  },
  {
   "cell_type": "code",
   "execution_count": 256,
   "metadata": {},
   "outputs": [
    {
     "data": {
      "text/plain": [
       "Text(0.5, 1.0, 'Word Embeddings for Targets')"
      ]
     },
     "execution_count": 256,
     "metadata": {},
     "output_type": "execute_result"
    },
    {
     "data": {
      "image/png": "[encoded data removed]",
      "text/plain": [
       "<Figure size 1080x1080 with 1 Axes>"
      ]
     },
     "metadata": {
      "needs_background": "light"
     },
     "output_type": "display_data"
    }
   ],
   "source": [
    "from matplotlib import pyplot as plt\n",
    "%matplotlib inline\n",
    "def plot(embeddings, labels):\n",
    "  assert embeddings.shape[0] >= len(labels), 'More labels than embeddings'\n",
    "  plt.figure(figsize=(15,15))  # in inches\n",
    "  for i, label in enumerate(labels):\n",
    "    x, y = embeddings[i,:]\n",
    "    plt.scatter(x, y)\n",
    "    plt.annotate(label, xy=(x, y), xytext=(5, 2), textcoords='offset points',\n",
    "                   ha='right', va='bottom')\n",
    "\n",
    "words = all_targets\n",
    "plot(two_d_embeddings, words)\n",
    "plt.title('Word Embeddings for Targets')"
   ]
  },
  {
   "cell_type": "code",
   "execution_count": 25,
   "metadata": {},
   "outputs": [],
   "source": [
    "from sklearn.metrics import confusion_matrix, f1_score, recall_score, precision_score, accuracy_score"
   ]
  },
  {
   "cell_type": "code",
   "execution_count": 6,
   "metadata": {},
   "outputs": [],
   "source": [
    "import pickle\n",
    "with open('data/tweets/vocab/dict.pkl', 'rb') as f:\n",
    "    w2id, id2w, words = pickle.load(f)"
   ]
  },
  {
   "cell_type": "code",
   "execution_count": 14,
   "metadata": {},
   "outputs": [
    {
     "data": {
      "text/plain": [
       "'fan'"
      ]
     },
     "execution_count": 14,
     "metadata": {},
     "output_type": "execute_result"
    }
   ],
   "source": [
    "words[333]"
   ]
  },
  {
   "cell_type": "code",
   "execution_count": 13,
   "metadata": {},
   "outputs": [
    {
     "data": {
      "text/plain": [
       "'fan'"
      ]
     },
     "execution_count": 13,
     "metadata": {},
     "output_type": "execute_result"
    }
   ],
   "source": [
    "a[333]"
   ]
  },
  {
   "cell_type": "code",
   "execution_count": 21,
   "metadata": {},
   "outputs": [],
   "source": [
    "words = set([w.lower() for w in b])"
   ]
  },
  {
   "cell_type": "code",
   "execution_count": 8,
   "metadata": {},
   "outputs": [],
   "source": [
    "import numpy as np\n",
    "file = '../data/sswe-u.txt'\n",
    "word_emb = {}\n",
    "with open(file) as fi:\n",
    "    for line in fi:\n",
    "        items = line.split()\n",
    "        word_emb[items[0]] = np.array(items[1:], dtype=np.float32)"
   ]
  },
  {
   "cell_type": "code",
   "execution_count": 21,
   "metadata": {},
   "outputs": [],
   "source": [
    "embs= []\n",
    "for w in words:\n",
    "    try:\n",
    "        emb = word_emb[w]\n",
    "    except:\n",
    "        emb = word_emb['unk']\n",
    "    embs.append(emb)"
   ]
  },
  {
   "cell_type": "code",
   "execution_count": 22,
   "metadata": {},
   "outputs": [],
   "source": [
    "embs = np.stack(embs)\n",
    "#embs = torch.stack(embs)"
   ]
  },
  {
   "cell_type": "code",
   "execution_count": 23,
   "metadata": {},
   "outputs": [],
   "source": [
    "#embs = torch.FloatTensor(embs)"
   ]
  },
  {
   "cell_type": "code",
   "execution_count": 24,
   "metadata": {},
   "outputs": [],
   "source": [
    "with open('data/tweets/vocab/sswe-u.pkl', 'wb') as f:\n",
    "    pickle.dump(embs, f)"
   ]
  },
  {
   "cell_type": "code",
   "execution_count": 37,
   "metadata": {},
   "outputs": [],
   "source": [
    "lstm = torch.nn.LSTM(10, 8, batch_first=True, num_layers = 2, bidirectional=True)"
   ]
  },
  {
   "cell_type": "code",
   "execution_count": 38,
   "metadata": {},
   "outputs": [],
   "source": [
    "a= torch.randn(3, 7, 10)"
   ]
  },
  {
   "cell_type": "code",
   "execution_count": 39,
   "metadata": {},
   "outputs": [],
   "source": [
    "o, h = lstm(a)"
   ]
  },
  {
   "cell_type": "code",
   "execution_count": 63,
   "metadata": {},
   "outputs": [],
   "source": [
    "import torch\n",
    "gru = torch.nn.GRU(20, 20, batch_first=True)"
   ]
  },
  {
   "cell_type": "code",
   "execution_count": 74,
   "metadata": {},
   "outputs": [],
   "source": [
    "a = torch.randn(3, 20)\n",
    "m = torch.randn(3, 20)"
   ]
  },
  {
   "cell_type": "code",
   "execution_count": 75,
   "metadata": {},
   "outputs": [],
   "source": [
    "c,m=gru(a.unsqueeze(1),m.unsqueeze(0))"
   ]
  },
  {
   "cell_type": "code",
   "execution_count": 77,
   "metadata": {},
   "outputs": [
    {
     "data": {
      "text/plain": [
       "torch.Size([1, 3, 20])"
      ]
     },
     "execution_count": 77,
     "metadata": {},
     "output_type": "execute_result"
    }
   ],
   "source": [
    "m.size()"
   ]
  },
  {
   "cell_type": "code",
   "execution_count": null,
   "metadata": {},
   "outputs": [],
   "source": []
  }
 ],
 "metadata": {
  "kernelspec": {
   "display_name": "Python 3",
   "language": "python",
   "name": "python3"
  },
  "language_info": {
   "codemirror_mode": {
    "name": "ipython",
    "version": 3
   },
   "file_extension": ".py",
   "mimetype": "text/x-python",
   "name": "python",
   "nbconvert_exporter": "python",
   "pygments_lexer": "ipython3",
   "version": "3.6.6"
  }
 },
 "nbformat": 4,
 "nbformat_minor": 2
}
